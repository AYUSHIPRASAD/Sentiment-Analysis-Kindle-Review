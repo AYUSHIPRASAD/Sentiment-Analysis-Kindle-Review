{
  "cells": [
    {
      "cell_type": "code",
      "execution_count": 1,
      "id": "d602b140",
      "metadata": {
        "colab": {
          "base_uri": "https://localhost:8080/"
        },
        "id": "d602b140",
        "outputId": "62f34a0d-de73-4d9f-d3cd-2427652e22c0"
      },
      "outputs": [
        {
          "output_type": "stream",
          "name": "stderr",
          "text": [
            "[nltk_data] Downloading package wordnet to /root/nltk_data...\n",
            "[nltk_data]   Package wordnet is already up-to-date!\n",
            "[nltk_data] Downloading package stopwords to /root/nltk_data...\n",
            "[nltk_data]   Package stopwords is already up-to-date!\n",
            "[nltk_data] Downloading package punkt to /root/nltk_data...\n",
            "[nltk_data]   Package punkt is already up-to-date!\n"
          ]
        }
      ],
      "source": [
        "import numpy as np\n",
        "import pandas as pd\n",
        "import nltk\n",
        "nltk.download('wordnet')\n",
        "nltk.download('stopwords')\n",
        "nltk.download('punkt')\n",
        "from nltk.corpus import stopwords\n",
        "from nltk.tokenize import word_tokenize\n",
        "from nltk.stem.porter import PorterStemmer\n",
        "from nltk.stem import WordNetLemmatizer\n",
        "from nltk.stem import LancasterStemmer,WordNetLemmatizer\n",
        "import re\n",
        "import os\n",
        "import csv"
      ]
    },
    {
      "cell_type": "code",
      "execution_count": 2,
      "id": "3705cdeb",
      "metadata": {
        "id": "3705cdeb"
      },
      "outputs": [],
      "source": [
        "data = pd.read_csv(\"/content/drive/MyDrive/all_kindle_review .csv\")\n"
      ]
    },
    {
      "cell_type": "code",
      "execution_count": 3,
      "id": "f8ec07f1",
      "metadata": {
        "colab": {
          "base_uri": "https://localhost:8080/",
          "height": 354
        },
        "id": "f8ec07f1",
        "outputId": "76bfa4d7-8fcc-4125-d082-b71e41fd39e5"
      },
      "outputs": [
        {
          "output_type": "execute_result",
          "data": {
            "text/plain": [
              "   Unnamed: 0  Unnamed: 0.1        asin  helpful  rating  \\\n",
              "0           0         11539  B0033UV8HI  [8, 10]       3   \n",
              "1           1          5957  B002HJV4DE   [1, 1]       5   \n",
              "2           2          9146  B002ZG96I4   [0, 0]       3   \n",
              "3           3          7038  B002QHWOEU   [1, 3]       3   \n",
              "4           4          1776  B001A06VJ8   [0, 1]       4   \n",
              "\n",
              "                                          reviewText   reviewTime  \\\n",
              "0  Jace Rankin may be short, but he's nothing to ...   09 2, 2010   \n",
              "1  Great short read.  I didn't want to put it dow...   10 8, 2013   \n",
              "2  I'll start by saying this is the first of four...  04 11, 2014   \n",
              "3  Aggie is Angela Lansbury who carries pocketboo...   07 5, 2014   \n",
              "4  I did not expect this type of book to be in li...  12 31, 2012   \n",
              "\n",
              "       reviewerID  reviewerName                   summary  unixReviewTime  \n",
              "0  A3HHXRELK8BHQG        Ridley  Entertaining But Average      1283385600  \n",
              "1  A2RGNZ0TRF578I  Holly Butler   Terrific menage scenes!      1381190400  \n",
              "2  A3S0H2HV6U1I7F       Merissa          Snapdragon Alley      1397174400  \n",
              "3   AC4OQW3GZ919J    Cleargrace    very light murder cozy      1404518400  \n",
              "4  A3C9V987IQHOQD      Rjostler                      Book      1356912000  "
            ],
            "text/html": [
              "\n",
              "  <div id=\"df-57a47e69-82d5-4ba3-8d15-a3fa190fcc39\">\n",
              "    <div class=\"colab-df-container\">\n",
              "      <div>\n",
              "<style scoped>\n",
              "    .dataframe tbody tr th:only-of-type {\n",
              "        vertical-align: middle;\n",
              "    }\n",
              "\n",
              "    .dataframe tbody tr th {\n",
              "        vertical-align: top;\n",
              "    }\n",
              "\n",
              "    .dataframe thead th {\n",
              "        text-align: right;\n",
              "    }\n",
              "</style>\n",
              "<table border=\"1\" class=\"dataframe\">\n",
              "  <thead>\n",
              "    <tr style=\"text-align: right;\">\n",
              "      <th></th>\n",
              "      <th>Unnamed: 0</th>\n",
              "      <th>Unnamed: 0.1</th>\n",
              "      <th>asin</th>\n",
              "      <th>helpful</th>\n",
              "      <th>rating</th>\n",
              "      <th>reviewText</th>\n",
              "      <th>reviewTime</th>\n",
              "      <th>reviewerID</th>\n",
              "      <th>reviewerName</th>\n",
              "      <th>summary</th>\n",
              "      <th>unixReviewTime</th>\n",
              "    </tr>\n",
              "  </thead>\n",
              "  <tbody>\n",
              "    <tr>\n",
              "      <th>0</th>\n",
              "      <td>0</td>\n",
              "      <td>11539</td>\n",
              "      <td>B0033UV8HI</td>\n",
              "      <td>[8, 10]</td>\n",
              "      <td>3</td>\n",
              "      <td>Jace Rankin may be short, but he's nothing to ...</td>\n",
              "      <td>09 2, 2010</td>\n",
              "      <td>A3HHXRELK8BHQG</td>\n",
              "      <td>Ridley</td>\n",
              "      <td>Entertaining But Average</td>\n",
              "      <td>1283385600</td>\n",
              "    </tr>\n",
              "    <tr>\n",
              "      <th>1</th>\n",
              "      <td>1</td>\n",
              "      <td>5957</td>\n",
              "      <td>B002HJV4DE</td>\n",
              "      <td>[1, 1]</td>\n",
              "      <td>5</td>\n",
              "      <td>Great short read.  I didn't want to put it dow...</td>\n",
              "      <td>10 8, 2013</td>\n",
              "      <td>A2RGNZ0TRF578I</td>\n",
              "      <td>Holly Butler</td>\n",
              "      <td>Terrific menage scenes!</td>\n",
              "      <td>1381190400</td>\n",
              "    </tr>\n",
              "    <tr>\n",
              "      <th>2</th>\n",
              "      <td>2</td>\n",
              "      <td>9146</td>\n",
              "      <td>B002ZG96I4</td>\n",
              "      <td>[0, 0]</td>\n",
              "      <td>3</td>\n",
              "      <td>I'll start by saying this is the first of four...</td>\n",
              "      <td>04 11, 2014</td>\n",
              "      <td>A3S0H2HV6U1I7F</td>\n",
              "      <td>Merissa</td>\n",
              "      <td>Snapdragon Alley</td>\n",
              "      <td>1397174400</td>\n",
              "    </tr>\n",
              "    <tr>\n",
              "      <th>3</th>\n",
              "      <td>3</td>\n",
              "      <td>7038</td>\n",
              "      <td>B002QHWOEU</td>\n",
              "      <td>[1, 3]</td>\n",
              "      <td>3</td>\n",
              "      <td>Aggie is Angela Lansbury who carries pocketboo...</td>\n",
              "      <td>07 5, 2014</td>\n",
              "      <td>AC4OQW3GZ919J</td>\n",
              "      <td>Cleargrace</td>\n",
              "      <td>very light murder cozy</td>\n",
              "      <td>1404518400</td>\n",
              "    </tr>\n",
              "    <tr>\n",
              "      <th>4</th>\n",
              "      <td>4</td>\n",
              "      <td>1776</td>\n",
              "      <td>B001A06VJ8</td>\n",
              "      <td>[0, 1]</td>\n",
              "      <td>4</td>\n",
              "      <td>I did not expect this type of book to be in li...</td>\n",
              "      <td>12 31, 2012</td>\n",
              "      <td>A3C9V987IQHOQD</td>\n",
              "      <td>Rjostler</td>\n",
              "      <td>Book</td>\n",
              "      <td>1356912000</td>\n",
              "    </tr>\n",
              "  </tbody>\n",
              "</table>\n",
              "</div>\n",
              "      <button class=\"colab-df-convert\" onclick=\"convertToInteractive('df-57a47e69-82d5-4ba3-8d15-a3fa190fcc39')\"\n",
              "              title=\"Convert this dataframe to an interactive table.\"\n",
              "              style=\"display:none;\">\n",
              "        \n",
              "  <svg xmlns=\"http://www.w3.org/2000/svg\" height=\"24px\"viewBox=\"0 0 24 24\"\n",
              "       width=\"24px\">\n",
              "    <path d=\"M0 0h24v24H0V0z\" fill=\"none\"/>\n",
              "    <path d=\"M18.56 5.44l.94 2.06.94-2.06 2.06-.94-2.06-.94-.94-2.06-.94 2.06-2.06.94zm-11 1L8.5 8.5l.94-2.06 2.06-.94-2.06-.94L8.5 2.5l-.94 2.06-2.06.94zm10 10l.94 2.06.94-2.06 2.06-.94-2.06-.94-.94-2.06-.94 2.06-2.06.94z\"/><path d=\"M17.41 7.96l-1.37-1.37c-.4-.4-.92-.59-1.43-.59-.52 0-1.04.2-1.43.59L10.3 9.45l-7.72 7.72c-.78.78-.78 2.05 0 2.83L4 21.41c.39.39.9.59 1.41.59.51 0 1.02-.2 1.41-.59l7.78-7.78 2.81-2.81c.8-.78.8-2.07 0-2.86zM5.41 20L4 18.59l7.72-7.72 1.47 1.35L5.41 20z\"/>\n",
              "  </svg>\n",
              "      </button>\n",
              "      \n",
              "  <style>\n",
              "    .colab-df-container {\n",
              "      display:flex;\n",
              "      flex-wrap:wrap;\n",
              "      gap: 12px;\n",
              "    }\n",
              "\n",
              "    .colab-df-convert {\n",
              "      background-color: #E8F0FE;\n",
              "      border: none;\n",
              "      border-radius: 50%;\n",
              "      cursor: pointer;\n",
              "      display: none;\n",
              "      fill: #1967D2;\n",
              "      height: 32px;\n",
              "      padding: 0 0 0 0;\n",
              "      width: 32px;\n",
              "    }\n",
              "\n",
              "    .colab-df-convert:hover {\n",
              "      background-color: #E2EBFA;\n",
              "      box-shadow: 0px 1px 2px rgba(60, 64, 67, 0.3), 0px 1px 3px 1px rgba(60, 64, 67, 0.15);\n",
              "      fill: #174EA6;\n",
              "    }\n",
              "\n",
              "    [theme=dark] .colab-df-convert {\n",
              "      background-color: #3B4455;\n",
              "      fill: #D2E3FC;\n",
              "    }\n",
              "\n",
              "    [theme=dark] .colab-df-convert:hover {\n",
              "      background-color: #434B5C;\n",
              "      box-shadow: 0px 1px 3px 1px rgba(0, 0, 0, 0.15);\n",
              "      filter: drop-shadow(0px 1px 2px rgba(0, 0, 0, 0.3));\n",
              "      fill: #FFFFFF;\n",
              "    }\n",
              "  </style>\n",
              "\n",
              "      <script>\n",
              "        const buttonEl =\n",
              "          document.querySelector('#df-57a47e69-82d5-4ba3-8d15-a3fa190fcc39 button.colab-df-convert');\n",
              "        buttonEl.style.display =\n",
              "          google.colab.kernel.accessAllowed ? 'block' : 'none';\n",
              "\n",
              "        async function convertToInteractive(key) {\n",
              "          const element = document.querySelector('#df-57a47e69-82d5-4ba3-8d15-a3fa190fcc39');\n",
              "          const dataTable =\n",
              "            await google.colab.kernel.invokeFunction('convertToInteractive',\n",
              "                                                     [key], {});\n",
              "          if (!dataTable) return;\n",
              "\n",
              "          const docLinkHtml = 'Like what you see? Visit the ' +\n",
              "            '<a target=\"_blank\" href=https://colab.research.google.com/notebooks/data_table.ipynb>data table notebook</a>'\n",
              "            + ' to learn more about interactive tables.';\n",
              "          element.innerHTML = '';\n",
              "          dataTable['output_type'] = 'display_data';\n",
              "          await google.colab.output.renderOutput(dataTable, element);\n",
              "          const docLink = document.createElement('div');\n",
              "          docLink.innerHTML = docLinkHtml;\n",
              "          element.appendChild(docLink);\n",
              "        }\n",
              "      </script>\n",
              "    </div>\n",
              "  </div>\n",
              "  "
            ]
          },
          "metadata": {},
          "execution_count": 3
        }
      ],
      "source": [
        "data.head()"
      ]
    },
    {
      "cell_type": "code",
      "execution_count": 4,
      "id": "90e123d3",
      "metadata": {
        "colab": {
          "base_uri": "https://localhost:8080/"
        },
        "id": "90e123d3",
        "outputId": "f6d36367-6d29-4826-8814-4f9f3912cfe6"
      },
      "outputs": [
        {
          "output_type": "execute_result",
          "data": {
            "text/plain": [
              "(12000, 11)"
            ]
          },
          "metadata": {},
          "execution_count": 4
        }
      ],
      "source": [
        "data.shape"
      ]
    },
    {
      "cell_type": "code",
      "execution_count": 5,
      "id": "6614a431",
      "metadata": {
        "colab": {
          "base_uri": "https://localhost:8080/"
        },
        "id": "6614a431",
        "outputId": "53b6925b-f0a2-4305-a6cd-dcda14364811"
      },
      "outputs": [
        {
          "output_type": "stream",
          "name": "stdout",
          "text": [
            "<class 'pandas.core.frame.DataFrame'>\n",
            "RangeIndex: 12000 entries, 0 to 11999\n",
            "Data columns (total 11 columns):\n",
            " #   Column          Non-Null Count  Dtype \n",
            "---  ------          --------------  ----- \n",
            " 0   Unnamed: 0      12000 non-null  int64 \n",
            " 1   Unnamed: 0.1    12000 non-null  int64 \n",
            " 2   asin            12000 non-null  object\n",
            " 3   helpful         12000 non-null  object\n",
            " 4   rating          12000 non-null  int64 \n",
            " 5   reviewText      12000 non-null  object\n",
            " 6   reviewTime      12000 non-null  object\n",
            " 7   reviewerID      12000 non-null  object\n",
            " 8   reviewerName    11962 non-null  object\n",
            " 9   summary         12000 non-null  object\n",
            " 10  unixReviewTime  12000 non-null  int64 \n",
            "dtypes: int64(4), object(7)\n",
            "memory usage: 1.0+ MB\n"
          ]
        }
      ],
      "source": [
        "data.info()"
      ]
    },
    {
      "cell_type": "code",
      "execution_count": 6,
      "id": "4700fbb8",
      "metadata": {
        "id": "4700fbb8"
      },
      "outputs": [],
      "source": [
        "data.drop(columns=[\"Unnamed: 0.1\", \"Unnamed: 0\", \"helpful\", \"reviewTime\", \"reviewerID\", \"reviewerName\", \"unixReviewTime\"], inplace= True)"
      ]
    },
    {
      "cell_type": "code",
      "execution_count": 7,
      "id": "1e1f634b",
      "metadata": {
        "colab": {
          "base_uri": "https://localhost:8080/",
          "height": 206
        },
        "id": "1e1f634b",
        "outputId": "f394c266-8fd4-433f-c158-856d07bf07ca"
      },
      "outputs": [
        {
          "output_type": "execute_result",
          "data": {
            "text/plain": [
              "         asin  rating                                         reviewText  \\\n",
              "0  B0033UV8HI       3  Jace Rankin may be short, but he's nothing to ...   \n",
              "1  B002HJV4DE       5  Great short read.  I didn't want to put it dow...   \n",
              "2  B002ZG96I4       3  I'll start by saying this is the first of four...   \n",
              "3  B002QHWOEU       3  Aggie is Angela Lansbury who carries pocketboo...   \n",
              "4  B001A06VJ8       4  I did not expect this type of book to be in li...   \n",
              "\n",
              "                    summary  \n",
              "0  Entertaining But Average  \n",
              "1   Terrific menage scenes!  \n",
              "2          Snapdragon Alley  \n",
              "3    very light murder cozy  \n",
              "4                      Book  "
            ],
            "text/html": [
              "\n",
              "  <div id=\"df-03f8757a-ce10-4e66-8e45-54c9c6808f3b\">\n",
              "    <div class=\"colab-df-container\">\n",
              "      <div>\n",
              "<style scoped>\n",
              "    .dataframe tbody tr th:only-of-type {\n",
              "        vertical-align: middle;\n",
              "    }\n",
              "\n",
              "    .dataframe tbody tr th {\n",
              "        vertical-align: top;\n",
              "    }\n",
              "\n",
              "    .dataframe thead th {\n",
              "        text-align: right;\n",
              "    }\n",
              "</style>\n",
              "<table border=\"1\" class=\"dataframe\">\n",
              "  <thead>\n",
              "    <tr style=\"text-align: right;\">\n",
              "      <th></th>\n",
              "      <th>asin</th>\n",
              "      <th>rating</th>\n",
              "      <th>reviewText</th>\n",
              "      <th>summary</th>\n",
              "    </tr>\n",
              "  </thead>\n",
              "  <tbody>\n",
              "    <tr>\n",
              "      <th>0</th>\n",
              "      <td>B0033UV8HI</td>\n",
              "      <td>3</td>\n",
              "      <td>Jace Rankin may be short, but he's nothing to ...</td>\n",
              "      <td>Entertaining But Average</td>\n",
              "    </tr>\n",
              "    <tr>\n",
              "      <th>1</th>\n",
              "      <td>B002HJV4DE</td>\n",
              "      <td>5</td>\n",
              "      <td>Great short read.  I didn't want to put it dow...</td>\n",
              "      <td>Terrific menage scenes!</td>\n",
              "    </tr>\n",
              "    <tr>\n",
              "      <th>2</th>\n",
              "      <td>B002ZG96I4</td>\n",
              "      <td>3</td>\n",
              "      <td>I'll start by saying this is the first of four...</td>\n",
              "      <td>Snapdragon Alley</td>\n",
              "    </tr>\n",
              "    <tr>\n",
              "      <th>3</th>\n",
              "      <td>B002QHWOEU</td>\n",
              "      <td>3</td>\n",
              "      <td>Aggie is Angela Lansbury who carries pocketboo...</td>\n",
              "      <td>very light murder cozy</td>\n",
              "    </tr>\n",
              "    <tr>\n",
              "      <th>4</th>\n",
              "      <td>B001A06VJ8</td>\n",
              "      <td>4</td>\n",
              "      <td>I did not expect this type of book to be in li...</td>\n",
              "      <td>Book</td>\n",
              "    </tr>\n",
              "  </tbody>\n",
              "</table>\n",
              "</div>\n",
              "      <button class=\"colab-df-convert\" onclick=\"convertToInteractive('df-03f8757a-ce10-4e66-8e45-54c9c6808f3b')\"\n",
              "              title=\"Convert this dataframe to an interactive table.\"\n",
              "              style=\"display:none;\">\n",
              "        \n",
              "  <svg xmlns=\"http://www.w3.org/2000/svg\" height=\"24px\"viewBox=\"0 0 24 24\"\n",
              "       width=\"24px\">\n",
              "    <path d=\"M0 0h24v24H0V0z\" fill=\"none\"/>\n",
              "    <path d=\"M18.56 5.44l.94 2.06.94-2.06 2.06-.94-2.06-.94-.94-2.06-.94 2.06-2.06.94zm-11 1L8.5 8.5l.94-2.06 2.06-.94-2.06-.94L8.5 2.5l-.94 2.06-2.06.94zm10 10l.94 2.06.94-2.06 2.06-.94-2.06-.94-.94-2.06-.94 2.06-2.06.94z\"/><path d=\"M17.41 7.96l-1.37-1.37c-.4-.4-.92-.59-1.43-.59-.52 0-1.04.2-1.43.59L10.3 9.45l-7.72 7.72c-.78.78-.78 2.05 0 2.83L4 21.41c.39.39.9.59 1.41.59.51 0 1.02-.2 1.41-.59l7.78-7.78 2.81-2.81c.8-.78.8-2.07 0-2.86zM5.41 20L4 18.59l7.72-7.72 1.47 1.35L5.41 20z\"/>\n",
              "  </svg>\n",
              "      </button>\n",
              "      \n",
              "  <style>\n",
              "    .colab-df-container {\n",
              "      display:flex;\n",
              "      flex-wrap:wrap;\n",
              "      gap: 12px;\n",
              "    }\n",
              "\n",
              "    .colab-df-convert {\n",
              "      background-color: #E8F0FE;\n",
              "      border: none;\n",
              "      border-radius: 50%;\n",
              "      cursor: pointer;\n",
              "      display: none;\n",
              "      fill: #1967D2;\n",
              "      height: 32px;\n",
              "      padding: 0 0 0 0;\n",
              "      width: 32px;\n",
              "    }\n",
              "\n",
              "    .colab-df-convert:hover {\n",
              "      background-color: #E2EBFA;\n",
              "      box-shadow: 0px 1px 2px rgba(60, 64, 67, 0.3), 0px 1px 3px 1px rgba(60, 64, 67, 0.15);\n",
              "      fill: #174EA6;\n",
              "    }\n",
              "\n",
              "    [theme=dark] .colab-df-convert {\n",
              "      background-color: #3B4455;\n",
              "      fill: #D2E3FC;\n",
              "    }\n",
              "\n",
              "    [theme=dark] .colab-df-convert:hover {\n",
              "      background-color: #434B5C;\n",
              "      box-shadow: 0px 1px 3px 1px rgba(0, 0, 0, 0.15);\n",
              "      filter: drop-shadow(0px 1px 2px rgba(0, 0, 0, 0.3));\n",
              "      fill: #FFFFFF;\n",
              "    }\n",
              "  </style>\n",
              "\n",
              "      <script>\n",
              "        const buttonEl =\n",
              "          document.querySelector('#df-03f8757a-ce10-4e66-8e45-54c9c6808f3b button.colab-df-convert');\n",
              "        buttonEl.style.display =\n",
              "          google.colab.kernel.accessAllowed ? 'block' : 'none';\n",
              "\n",
              "        async function convertToInteractive(key) {\n",
              "          const element = document.querySelector('#df-03f8757a-ce10-4e66-8e45-54c9c6808f3b');\n",
              "          const dataTable =\n",
              "            await google.colab.kernel.invokeFunction('convertToInteractive',\n",
              "                                                     [key], {});\n",
              "          if (!dataTable) return;\n",
              "\n",
              "          const docLinkHtml = 'Like what you see? Visit the ' +\n",
              "            '<a target=\"_blank\" href=https://colab.research.google.com/notebooks/data_table.ipynb>data table notebook</a>'\n",
              "            + ' to learn more about interactive tables.';\n",
              "          element.innerHTML = '';\n",
              "          dataTable['output_type'] = 'display_data';\n",
              "          await google.colab.output.renderOutput(dataTable, element);\n",
              "          const docLink = document.createElement('div');\n",
              "          docLink.innerHTML = docLinkHtml;\n",
              "          element.appendChild(docLink);\n",
              "        }\n",
              "      </script>\n",
              "    </div>\n",
              "  </div>\n",
              "  "
            ]
          },
          "metadata": {},
          "execution_count": 7
        }
      ],
      "source": [
        "data.head()"
      ]
    },
    {
      "cell_type": "code",
      "source": [
        "data = data.sample(10000)"
      ],
      "metadata": {
        "id": "Zg2V2-NYgm3v"
      },
      "id": "Zg2V2-NYgm3v",
      "execution_count": 8,
      "outputs": []
    },
    {
      "cell_type": "code",
      "execution_count": 9,
      "id": "f17c5b82",
      "metadata": {
        "colab": {
          "base_uri": "https://localhost:8080/",
          "height": 300
        },
        "id": "f17c5b82",
        "outputId": "03821934-d364-47f9-f36a-cd4c9c32d400"
      },
      "outputs": [
        {
          "output_type": "execute_result",
          "data": {
            "text/plain": [
              "             rating\n",
              "count  10000.000000\n",
              "mean       3.246000\n",
              "std        1.420945\n",
              "min        1.000000\n",
              "25%        2.000000\n",
              "50%        3.000000\n",
              "75%        4.000000\n",
              "max        5.000000"
            ],
            "text/html": [
              "\n",
              "  <div id=\"df-d7dbb768-1e16-4d11-beaf-fe26a3208f58\">\n",
              "    <div class=\"colab-df-container\">\n",
              "      <div>\n",
              "<style scoped>\n",
              "    .dataframe tbody tr th:only-of-type {\n",
              "        vertical-align: middle;\n",
              "    }\n",
              "\n",
              "    .dataframe tbody tr th {\n",
              "        vertical-align: top;\n",
              "    }\n",
              "\n",
              "    .dataframe thead th {\n",
              "        text-align: right;\n",
              "    }\n",
              "</style>\n",
              "<table border=\"1\" class=\"dataframe\">\n",
              "  <thead>\n",
              "    <tr style=\"text-align: right;\">\n",
              "      <th></th>\n",
              "      <th>rating</th>\n",
              "    </tr>\n",
              "  </thead>\n",
              "  <tbody>\n",
              "    <tr>\n",
              "      <th>count</th>\n",
              "      <td>10000.000000</td>\n",
              "    </tr>\n",
              "    <tr>\n",
              "      <th>mean</th>\n",
              "      <td>3.246000</td>\n",
              "    </tr>\n",
              "    <tr>\n",
              "      <th>std</th>\n",
              "      <td>1.420945</td>\n",
              "    </tr>\n",
              "    <tr>\n",
              "      <th>min</th>\n",
              "      <td>1.000000</td>\n",
              "    </tr>\n",
              "    <tr>\n",
              "      <th>25%</th>\n",
              "      <td>2.000000</td>\n",
              "    </tr>\n",
              "    <tr>\n",
              "      <th>50%</th>\n",
              "      <td>3.000000</td>\n",
              "    </tr>\n",
              "    <tr>\n",
              "      <th>75%</th>\n",
              "      <td>4.000000</td>\n",
              "    </tr>\n",
              "    <tr>\n",
              "      <th>max</th>\n",
              "      <td>5.000000</td>\n",
              "    </tr>\n",
              "  </tbody>\n",
              "</table>\n",
              "</div>\n",
              "      <button class=\"colab-df-convert\" onclick=\"convertToInteractive('df-d7dbb768-1e16-4d11-beaf-fe26a3208f58')\"\n",
              "              title=\"Convert this dataframe to an interactive table.\"\n",
              "              style=\"display:none;\">\n",
              "        \n",
              "  <svg xmlns=\"http://www.w3.org/2000/svg\" height=\"24px\"viewBox=\"0 0 24 24\"\n",
              "       width=\"24px\">\n",
              "    <path d=\"M0 0h24v24H0V0z\" fill=\"none\"/>\n",
              "    <path d=\"M18.56 5.44l.94 2.06.94-2.06 2.06-.94-2.06-.94-.94-2.06-.94 2.06-2.06.94zm-11 1L8.5 8.5l.94-2.06 2.06-.94-2.06-.94L8.5 2.5l-.94 2.06-2.06.94zm10 10l.94 2.06.94-2.06 2.06-.94-2.06-.94-.94-2.06-.94 2.06-2.06.94z\"/><path d=\"M17.41 7.96l-1.37-1.37c-.4-.4-.92-.59-1.43-.59-.52 0-1.04.2-1.43.59L10.3 9.45l-7.72 7.72c-.78.78-.78 2.05 0 2.83L4 21.41c.39.39.9.59 1.41.59.51 0 1.02-.2 1.41-.59l7.78-7.78 2.81-2.81c.8-.78.8-2.07 0-2.86zM5.41 20L4 18.59l7.72-7.72 1.47 1.35L5.41 20z\"/>\n",
              "  </svg>\n",
              "      </button>\n",
              "      \n",
              "  <style>\n",
              "    .colab-df-container {\n",
              "      display:flex;\n",
              "      flex-wrap:wrap;\n",
              "      gap: 12px;\n",
              "    }\n",
              "\n",
              "    .colab-df-convert {\n",
              "      background-color: #E8F0FE;\n",
              "      border: none;\n",
              "      border-radius: 50%;\n",
              "      cursor: pointer;\n",
              "      display: none;\n",
              "      fill: #1967D2;\n",
              "      height: 32px;\n",
              "      padding: 0 0 0 0;\n",
              "      width: 32px;\n",
              "    }\n",
              "\n",
              "    .colab-df-convert:hover {\n",
              "      background-color: #E2EBFA;\n",
              "      box-shadow: 0px 1px 2px rgba(60, 64, 67, 0.3), 0px 1px 3px 1px rgba(60, 64, 67, 0.15);\n",
              "      fill: #174EA6;\n",
              "    }\n",
              "\n",
              "    [theme=dark] .colab-df-convert {\n",
              "      background-color: #3B4455;\n",
              "      fill: #D2E3FC;\n",
              "    }\n",
              "\n",
              "    [theme=dark] .colab-df-convert:hover {\n",
              "      background-color: #434B5C;\n",
              "      box-shadow: 0px 1px 3px 1px rgba(0, 0, 0, 0.15);\n",
              "      filter: drop-shadow(0px 1px 2px rgba(0, 0, 0, 0.3));\n",
              "      fill: #FFFFFF;\n",
              "    }\n",
              "  </style>\n",
              "\n",
              "      <script>\n",
              "        const buttonEl =\n",
              "          document.querySelector('#df-d7dbb768-1e16-4d11-beaf-fe26a3208f58 button.colab-df-convert');\n",
              "        buttonEl.style.display =\n",
              "          google.colab.kernel.accessAllowed ? 'block' : 'none';\n",
              "\n",
              "        async function convertToInteractive(key) {\n",
              "          const element = document.querySelector('#df-d7dbb768-1e16-4d11-beaf-fe26a3208f58');\n",
              "          const dataTable =\n",
              "            await google.colab.kernel.invokeFunction('convertToInteractive',\n",
              "                                                     [key], {});\n",
              "          if (!dataTable) return;\n",
              "\n",
              "          const docLinkHtml = 'Like what you see? Visit the ' +\n",
              "            '<a target=\"_blank\" href=https://colab.research.google.com/notebooks/data_table.ipynb>data table notebook</a>'\n",
              "            + ' to learn more about interactive tables.';\n",
              "          element.innerHTML = '';\n",
              "          dataTable['output_type'] = 'display_data';\n",
              "          await google.colab.output.renderOutput(dataTable, element);\n",
              "          const docLink = document.createElement('div');\n",
              "          docLink.innerHTML = docLinkHtml;\n",
              "          element.appendChild(docLink);\n",
              "        }\n",
              "      </script>\n",
              "    </div>\n",
              "  </div>\n",
              "  "
            ]
          },
          "metadata": {},
          "execution_count": 9
        }
      ],
      "source": [
        "data.describe()"
      ]
    },
    {
      "cell_type": "code",
      "execution_count": 10,
      "id": "82aefad0",
      "metadata": {
        "colab": {
          "base_uri": "https://localhost:8080/"
        },
        "id": "82aefad0",
        "outputId": "9b5b42a7-67f3-4d24-e95d-05cef9b5a151"
      },
      "outputs": [
        {
          "output_type": "execute_result",
          "data": {
            "text/plain": [
              "asin          0\n",
              "rating        0\n",
              "reviewText    0\n",
              "summary       0\n",
              "dtype: int64"
            ]
          },
          "metadata": {},
          "execution_count": 10
        }
      ],
      "source": [
        "data.isnull().sum()"
      ]
    },
    {
      "cell_type": "code",
      "execution_count": 11,
      "id": "110511cc",
      "metadata": {
        "colab": {
          "base_uri": "https://localhost:8080/"
        },
        "id": "110511cc",
        "outputId": "5b4b5431-470c-42de-8a85-46c4e732b1ea"
      },
      "outputs": [
        {
          "output_type": "execute_result",
          "data": {
            "text/plain": [
              "(10000, 4)"
            ]
          },
          "metadata": {},
          "execution_count": 11
        }
      ],
      "source": [
        "data.shape"
      ]
    },
    {
      "cell_type": "code",
      "execution_count": 12,
      "id": "916860c7",
      "metadata": {
        "colab": {
          "base_uri": "https://localhost:8080/"
        },
        "id": "916860c7",
        "outputId": "5dfb68e1-c5d0-42ea-fca8-785a2b96d8b6"
      },
      "outputs": [
        {
          "output_type": "execute_result",
          "data": {
            "text/plain": [
              "1989"
            ]
          },
          "metadata": {},
          "execution_count": 12
        }
      ],
      "source": [
        "data[\"asin\"].nunique()"
      ]
    },
    {
      "cell_type": "code",
      "execution_count": 13,
      "id": "fe2ab6a8",
      "metadata": {
        "colab": {
          "base_uri": "https://localhost:8080/"
        },
        "id": "fe2ab6a8",
        "outputId": "07ee24e6-9996-48fc-f64b-c68687825eaa"
      },
      "outputs": [
        {
          "output_type": "execute_result",
          "data": {
            "text/plain": [
              "4    2501\n",
              "5    2485\n",
              "3    1674\n",
              "1    1671\n",
              "2    1669\n",
              "Name: rating, dtype: int64"
            ]
          },
          "metadata": {},
          "execution_count": 13
        }
      ],
      "source": [
        "data[\"rating\"].value_counts()"
      ]
    },
    {
      "cell_type": "code",
      "execution_count": 14,
      "id": "d3514d90",
      "metadata": {
        "colab": {
          "base_uri": "https://localhost:8080/",
          "height": 346
        },
        "id": "d3514d90",
        "outputId": "239fbdab-545e-4d8c-cac4-55e2c545433f"
      },
      "outputs": [
        {
          "output_type": "display_data",
          "data": {
            "text/plain": [
              "<Figure size 720x360 with 1 Axes>"
            ],
            "image/png": "[encoded data removed]"
          },
          "metadata": {
            "needs_background": "light"
          }
        }
      ],
      "source": [
        "import matplotlib.pyplot as plt\n",
        "ax = data[\"rating\"].value_counts().sort_index() \\\n",
        "    .plot(kind='bar',\n",
        "          title='Count of Reviews by Stars',\n",
        "          figsize=(10, 5))\n",
        "ax.set_xlabel('Review Stars')\n",
        "plt.show()"
      ]
    },
    {
      "cell_type": "markdown",
      "id": "c0963d12",
      "metadata": {
        "id": "c0963d12"
      },
      "source": [
        "### Imputing rating value\n"
      ]
    },
    {
      "cell_type": "code",
      "source": [
        "data[\"rating\"] = np.where((data[\"rating\"] < 3), 0, data.rating)\n",
        "data[\"rating\"] = np.where((data[\"rating\"] >= 3), 1, data.rating)"
      ],
      "metadata": {
        "id": "oBbfq-aF5NmA"
      },
      "id": "oBbfq-aF5NmA",
      "execution_count": 15,
      "outputs": []
    },
    {
      "cell_type": "code",
      "execution_count": 16,
      "id": "fd7f263d",
      "metadata": {
        "colab": {
          "base_uri": "https://localhost:8080/",
          "height": 424
        },
        "id": "fd7f263d",
        "outputId": "30bdb5d6-fa7d-4245-f26e-6b67e415c2b9"
      },
      "outputs": [
        {
          "output_type": "execute_result",
          "data": {
            "text/plain": [
              "             asin  rating                                         reviewText  \\\n",
              "6340   B001892DH0       1  When Sociology professor Meg visits a jungle i...   \n",
              "5950   B002R2OF50       1  A nice and short book to read. End. That's the...   \n",
              "2310   B0014BRMKA       1  The traumatic meeting of Emerald Sandford and ...   \n",
              "1294   B003B3O310       0  Sorry,but this was a disappointing read.  Seem...   \n",
              "9791   B001IWL1ZM       1  So amid all of the intentional spelling (tiger...   \n",
              "...           ...     ...                                                ...   \n",
              "2207   B001Q3KT1K       1  Look at the cover.  Read the description.  Thi...   \n",
              "10675  B001AWYAZ8       1  This is a well written & very interesting acco...   \n",
              "2035   B002G99RRK       1  I cant believe these books keep me up all nigh...   \n",
              "2701   B002FDLOCI       1  a good coming of age book and information that...   \n",
              "1030   B004HW6EY8       0  I didn't understand the last book it was all o...   \n",
              "\n",
              "                                   summary  \n",
              "6340                      Treasure Hunting  \n",
              "5950                     Hansel and Gretel  \n",
              "2310   Do Lord and Pirate's Daughters Mix?  \n",
              "1294              A Little Girl In My Room  \n",
              "9791            got a little trite (tryte)  \n",
              "...                                    ...  \n",
              "2207                        DARK BUT LOVED  \n",
              "10675                     A Moving Account  \n",
              "2035         Look forward to each new one!  \n",
              "2701                          good western  \n",
              "1030                    all over the place  \n",
              "\n",
              "[10000 rows x 4 columns]"
            ],
            "text/html": [
              "\n",
              "  <div id=\"df-ac5c2556-aa38-4a2f-97f1-a3d2f0741710\">\n",
              "    <div class=\"colab-df-container\">\n",
              "      <div>\n",
              "<style scoped>\n",
              "    .dataframe tbody tr th:only-of-type {\n",
              "        vertical-align: middle;\n",
              "    }\n",
              "\n",
              "    .dataframe tbody tr th {\n",
              "        vertical-align: top;\n",
              "    }\n",
              "\n",
              "    .dataframe thead th {\n",
              "        text-align: right;\n",
              "    }\n",
              "</style>\n",
              "<table border=\"1\" class=\"dataframe\">\n",
              "  <thead>\n",
              "    <tr style=\"text-align: right;\">\n",
              "      <th></th>\n",
              "      <th>asin</th>\n",
              "      <th>rating</th>\n",
              "      <th>reviewText</th>\n",
              "      <th>summary</th>\n",
              "    </tr>\n",
              "  </thead>\n",
              "  <tbody>\n",
              "    <tr>\n",
              "      <th>6340</th>\n",
              "      <td>B001892DH0</td>\n",
              "      <td>1</td>\n",
              "      <td>When Sociology professor Meg visits a jungle i...</td>\n",
              "      <td>Treasure Hunting</td>\n",
              "    </tr>\n",
              "    <tr>\n",
              "      <th>5950</th>\n",
              "      <td>B002R2OF50</td>\n",
              "      <td>1</td>\n",
              "      <td>A nice and short book to read. End. That's the...</td>\n",
              "      <td>Hansel and Gretel</td>\n",
              "    </tr>\n",
              "    <tr>\n",
              "      <th>2310</th>\n",
              "      <td>B0014BRMKA</td>\n",
              "      <td>1</td>\n",
              "      <td>The traumatic meeting of Emerald Sandford and ...</td>\n",
              "      <td>Do Lord and Pirate's Daughters Mix?</td>\n",
              "    </tr>\n",
              "    <tr>\n",
              "      <th>1294</th>\n",
              "      <td>B003B3O310</td>\n",
              "      <td>0</td>\n",
              "      <td>Sorry,but this was a disappointing read.  Seem...</td>\n",
              "      <td>A Little Girl In My Room</td>\n",
              "    </tr>\n",
              "    <tr>\n",
              "      <th>9791</th>\n",
              "      <td>B001IWL1ZM</td>\n",
              "      <td>1</td>\n",
              "      <td>So amid all of the intentional spelling (tiger...</td>\n",
              "      <td>got a little trite (tryte)</td>\n",
              "    </tr>\n",
              "    <tr>\n",
              "      <th>...</th>\n",
              "      <td>...</td>\n",
              "      <td>...</td>\n",
              "      <td>...</td>\n",
              "      <td>...</td>\n",
              "    </tr>\n",
              "    <tr>\n",
              "      <th>2207</th>\n",
              "      <td>B001Q3KT1K</td>\n",
              "      <td>1</td>\n",
              "      <td>Look at the cover.  Read the description.  Thi...</td>\n",
              "      <td>DARK BUT LOVED</td>\n",
              "    </tr>\n",
              "    <tr>\n",
              "      <th>10675</th>\n",
              "      <td>B001AWYAZ8</td>\n",
              "      <td>1</td>\n",
              "      <td>This is a well written &amp; very interesting acco...</td>\n",
              "      <td>A Moving Account</td>\n",
              "    </tr>\n",
              "    <tr>\n",
              "      <th>2035</th>\n",
              "      <td>B002G99RRK</td>\n",
              "      <td>1</td>\n",
              "      <td>I cant believe these books keep me up all nigh...</td>\n",
              "      <td>Look forward to each new one!</td>\n",
              "    </tr>\n",
              "    <tr>\n",
              "      <th>2701</th>\n",
              "      <td>B002FDLOCI</td>\n",
              "      <td>1</td>\n",
              "      <td>a good coming of age book and information that...</td>\n",
              "      <td>good western</td>\n",
              "    </tr>\n",
              "    <tr>\n",
              "      <th>1030</th>\n",
              "      <td>B004HW6EY8</td>\n",
              "      <td>0</td>\n",
              "      <td>I didn't understand the last book it was all o...</td>\n",
              "      <td>all over the place</td>\n",
              "    </tr>\n",
              "  </tbody>\n",
              "</table>\n",
              "<p>10000 rows × 4 columns</p>\n",
              "</div>\n",
              "      <button class=\"colab-df-convert\" onclick=\"convertToInteractive('df-ac5c2556-aa38-4a2f-97f1-a3d2f0741710')\"\n",
              "              title=\"Convert this dataframe to an interactive table.\"\n",
              "              style=\"display:none;\">\n",
              "        \n",
              "  <svg xmlns=\"http://www.w3.org/2000/svg\" height=\"24px\"viewBox=\"0 0 24 24\"\n",
              "       width=\"24px\">\n",
              "    <path d=\"M0 0h24v24H0V0z\" fill=\"none\"/>\n",
              "    <path d=\"M18.56 5.44l.94 2.06.94-2.06 2.06-.94-2.06-.94-.94-2.06-.94 2.06-2.06.94zm-11 1L8.5 8.5l.94-2.06 2.06-.94-2.06-.94L8.5 2.5l-.94 2.06-2.06.94zm10 10l.94 2.06.94-2.06 2.06-.94-2.06-.94-.94-2.06-.94 2.06-2.06.94z\"/><path d=\"M17.41 7.96l-1.37-1.37c-.4-.4-.92-.59-1.43-.59-.52 0-1.04.2-1.43.59L10.3 9.45l-7.72 7.72c-.78.78-.78 2.05 0 2.83L4 21.41c.39.39.9.59 1.41.59.51 0 1.02-.2 1.41-.59l7.78-7.78 2.81-2.81c.8-.78.8-2.07 0-2.86zM5.41 20L4 18.59l7.72-7.72 1.47 1.35L5.41 20z\"/>\n",
              "  </svg>\n",
              "      </button>\n",
              "      \n",
              "  <style>\n",
              "    .colab-df-container {\n",
              "      display:flex;\n",
              "      flex-wrap:wrap;\n",
              "      gap: 12px;\n",
              "    }\n",
              "\n",
              "    .colab-df-convert {\n",
              "      background-color: #E8F0FE;\n",
              "      border: none;\n",
              "      border-radius: 50%;\n",
              "      cursor: pointer;\n",
              "      display: none;\n",
              "      fill: #1967D2;\n",
              "      height: 32px;\n",
              "      padding: 0 0 0 0;\n",
              "      width: 32px;\n",
              "    }\n",
              "\n",
              "    .colab-df-convert:hover {\n",
              "      background-color: #E2EBFA;\n",
              "      box-shadow: 0px 1px 2px rgba(60, 64, 67, 0.3), 0px 1px 3px 1px rgba(60, 64, 67, 0.15);\n",
              "      fill: #174EA6;\n",
              "    }\n",
              "\n",
              "    [theme=dark] .colab-df-convert {\n",
              "      background-color: #3B4455;\n",
              "      fill: #D2E3FC;\n",
              "    }\n",
              "\n",
              "    [theme=dark] .colab-df-convert:hover {\n",
              "      background-color: #434B5C;\n",
              "      box-shadow: 0px 1px 3px 1px rgba(0, 0, 0, 0.15);\n",
              "      filter: drop-shadow(0px 1px 2px rgba(0, 0, 0, 0.3));\n",
              "      fill: #FFFFFF;\n",
              "    }\n",
              "  </style>\n",
              "\n",
              "      <script>\n",
              "        const buttonEl =\n",
              "          document.querySelector('#df-ac5c2556-aa38-4a2f-97f1-a3d2f0741710 button.colab-df-convert');\n",
              "        buttonEl.style.display =\n",
              "          google.colab.kernel.accessAllowed ? 'block' : 'none';\n",
              "\n",
              "        async function convertToInteractive(key) {\n",
              "          const element = document.querySelector('#df-ac5c2556-aa38-4a2f-97f1-a3d2f0741710');\n",
              "          const dataTable =\n",
              "            await google.colab.kernel.invokeFunction('convertToInteractive',\n",
              "                                                     [key], {});\n",
              "          if (!dataTable) return;\n",
              "\n",
              "          const docLinkHtml = 'Like what you see? Visit the ' +\n",
              "            '<a target=\"_blank\" href=https://colab.research.google.com/notebooks/data_table.ipynb>data table notebook</a>'\n",
              "            + ' to learn more about interactive tables.';\n",
              "          element.innerHTML = '';\n",
              "          dataTable['output_type'] = 'display_data';\n",
              "          await google.colab.output.renderOutput(dataTable, element);\n",
              "          const docLink = document.createElement('div');\n",
              "          docLink.innerHTML = docLinkHtml;\n",
              "          element.appendChild(docLink);\n",
              "        }\n",
              "      </script>\n",
              "    </div>\n",
              "  </div>\n",
              "  "
            ]
          },
          "metadata": {},
          "execution_count": 16
        }
      ],
      "source": [
        "data"
      ]
    },
    {
      "cell_type": "code",
      "execution_count": 17,
      "id": "ea73c0c5",
      "metadata": {
        "id": "ea73c0c5"
      },
      "outputs": [],
      "source": [
        "data[\"word-count\"] = data[\"reviewText\"].str.split().str.len()"
      ]
    },
    {
      "cell_type": "code",
      "execution_count": 18,
      "id": "02c80597",
      "metadata": {
        "colab": {
          "base_uri": "https://localhost:8080/",
          "height": 424
        },
        "id": "02c80597",
        "outputId": "3c90e8ce-47ea-400a-bea0-efe13c961644"
      },
      "outputs": [
        {
          "output_type": "execute_result",
          "data": {
            "text/plain": [
              "             asin  rating                                         reviewText  \\\n",
              "6340   B001892DH0       1  When Sociology professor Meg visits a jungle i...   \n",
              "5950   B002R2OF50       1  A nice and short book to read. End. That's the...   \n",
              "2310   B0014BRMKA       1  The traumatic meeting of Emerald Sandford and ...   \n",
              "1294   B003B3O310       0  Sorry,but this was a disappointing read.  Seem...   \n",
              "9791   B001IWL1ZM       1  So amid all of the intentional spelling (tiger...   \n",
              "...           ...     ...                                                ...   \n",
              "2207   B001Q3KT1K       1  Look at the cover.  Read the description.  Thi...   \n",
              "10675  B001AWYAZ8       1  This is a well written & very interesting acco...   \n",
              "2035   B002G99RRK       1  I cant believe these books keep me up all nigh...   \n",
              "2701   B002FDLOCI       1  a good coming of age book and information that...   \n",
              "1030   B004HW6EY8       0  I didn't understand the last book it was all o...   \n",
              "\n",
              "                                   summary  word-count  \n",
              "6340                      Treasure Hunting         113  \n",
              "5950                     Hansel and Gretel         306  \n",
              "2310   Do Lord and Pirate's Daughters Mix?         424  \n",
              "1294              A Little Girl In My Room          23  \n",
              "9791            got a little trite (tryte)          96  \n",
              "...                                    ...         ...  \n",
              "2207                        DARK BUT LOVED          53  \n",
              "10675                     A Moving Account          39  \n",
              "2035         Look forward to each new one!          44  \n",
              "2701                          good western          60  \n",
              "1030                    all over the place          43  \n",
              "\n",
              "[10000 rows x 5 columns]"
            ],
            "text/html": [
              "\n",
              "  <div id=\"df-1cbd3b45-7ef8-43f2-a870-34a439a6af80\">\n",
              "    <div class=\"colab-df-container\">\n",
              "      <div>\n",
              "<style scoped>\n",
              "    .dataframe tbody tr th:only-of-type {\n",
              "        vertical-align: middle;\n",
              "    }\n",
              "\n",
              "    .dataframe tbody tr th {\n",
              "        vertical-align: top;\n",
              "    }\n",
              "\n",
              "    .dataframe thead th {\n",
              "        text-align: right;\n",
              "    }\n",
              "</style>\n",
              "<table border=\"1\" class=\"dataframe\">\n",
              "  <thead>\n",
              "    <tr style=\"text-align: right;\">\n",
              "      <th></th>\n",
              "      <th>asin</th>\n",
              "      <th>rating</th>\n",
              "      <th>reviewText</th>\n",
              "      <th>summary</th>\n",
              "      <th>word-count</th>\n",
              "    </tr>\n",
              "  </thead>\n",
              "  <tbody>\n",
              "    <tr>\n",
              "      <th>6340</th>\n",
              "      <td>B001892DH0</td>\n",
              "      <td>1</td>\n",
              "      <td>When Sociology professor Meg visits a jungle i...</td>\n",
              "      <td>Treasure Hunting</td>\n",
              "      <td>113</td>\n",
              "    </tr>\n",
              "    <tr>\n",
              "      <th>5950</th>\n",
              "      <td>B002R2OF50</td>\n",
              "      <td>1</td>\n",
              "      <td>A nice and short book to read. End. That's the...</td>\n",
              "      <td>Hansel and Gretel</td>\n",
              "      <td>306</td>\n",
              "    </tr>\n",
              "    <tr>\n",
              "      <th>2310</th>\n",
              "      <td>B0014BRMKA</td>\n",
              "      <td>1</td>\n",
              "      <td>The traumatic meeting of Emerald Sandford and ...</td>\n",
              "      <td>Do Lord and Pirate's Daughters Mix?</td>\n",
              "      <td>424</td>\n",
              "    </tr>\n",
              "    <tr>\n",
              "      <th>1294</th>\n",
              "      <td>B003B3O310</td>\n",
              "      <td>0</td>\n",
              "      <td>Sorry,but this was a disappointing read.  Seem...</td>\n",
              "      <td>A Little Girl In My Room</td>\n",
              "      <td>23</td>\n",
              "    </tr>\n",
              "    <tr>\n",
              "      <th>9791</th>\n",
              "      <td>B001IWL1ZM</td>\n",
              "      <td>1</td>\n",
              "      <td>So amid all of the intentional spelling (tiger...</td>\n",
              "      <td>got a little trite (tryte)</td>\n",
              "      <td>96</td>\n",
              "    </tr>\n",
              "    <tr>\n",
              "      <th>...</th>\n",
              "      <td>...</td>\n",
              "      <td>...</td>\n",
              "      <td>...</td>\n",
              "      <td>...</td>\n",
              "      <td>...</td>\n",
              "    </tr>\n",
              "    <tr>\n",
              "      <th>2207</th>\n",
              "      <td>B001Q3KT1K</td>\n",
              "      <td>1</td>\n",
              "      <td>Look at the cover.  Read the description.  Thi...</td>\n",
              "      <td>DARK BUT LOVED</td>\n",
              "      <td>53</td>\n",
              "    </tr>\n",
              "    <tr>\n",
              "      <th>10675</th>\n",
              "      <td>B001AWYAZ8</td>\n",
              "      <td>1</td>\n",
              "      <td>This is a well written &amp; very interesting acco...</td>\n",
              "      <td>A Moving Account</td>\n",
              "      <td>39</td>\n",
              "    </tr>\n",
              "    <tr>\n",
              "      <th>2035</th>\n",
              "      <td>B002G99RRK</td>\n",
              "      <td>1</td>\n",
              "      <td>I cant believe these books keep me up all nigh...</td>\n",
              "      <td>Look forward to each new one!</td>\n",
              "      <td>44</td>\n",
              "    </tr>\n",
              "    <tr>\n",
              "      <th>2701</th>\n",
              "      <td>B002FDLOCI</td>\n",
              "      <td>1</td>\n",
              "      <td>a good coming of age book and information that...</td>\n",
              "      <td>good western</td>\n",
              "      <td>60</td>\n",
              "    </tr>\n",
              "    <tr>\n",
              "      <th>1030</th>\n",
              "      <td>B004HW6EY8</td>\n",
              "      <td>0</td>\n",
              "      <td>I didn't understand the last book it was all o...</td>\n",
              "      <td>all over the place</td>\n",
              "      <td>43</td>\n",
              "    </tr>\n",
              "  </tbody>\n",
              "</table>\n",
              "<p>10000 rows × 5 columns</p>\n",
              "</div>\n",
              "      <button class=\"colab-df-convert\" onclick=\"convertToInteractive('df-1cbd3b45-7ef8-43f2-a870-34a439a6af80')\"\n",
              "              title=\"Convert this dataframe to an interactive table.\"\n",
              "              style=\"display:none;\">\n",
              "        \n",
              "  <svg xmlns=\"http://www.w3.org/2000/svg\" height=\"24px\"viewBox=\"0 0 24 24\"\n",
              "       width=\"24px\">\n",
              "    <path d=\"M0 0h24v24H0V0z\" fill=\"none\"/>\n",
              "    <path d=\"M18.56 5.44l.94 2.06.94-2.06 2.06-.94-2.06-.94-.94-2.06-.94 2.06-2.06.94zm-11 1L8.5 8.5l.94-2.06 2.06-.94-2.06-.94L8.5 2.5l-.94 2.06-2.06.94zm10 10l.94 2.06.94-2.06 2.06-.94-2.06-.94-.94-2.06-.94 2.06-2.06.94z\"/><path d=\"M17.41 7.96l-1.37-1.37c-.4-.4-.92-.59-1.43-.59-.52 0-1.04.2-1.43.59L10.3 9.45l-7.72 7.72c-.78.78-.78 2.05 0 2.83L4 21.41c.39.39.9.59 1.41.59.51 0 1.02-.2 1.41-.59l7.78-7.78 2.81-2.81c.8-.78.8-2.07 0-2.86zM5.41 20L4 18.59l7.72-7.72 1.47 1.35L5.41 20z\"/>\n",
              "  </svg>\n",
              "      </button>\n",
              "      \n",
              "  <style>\n",
              "    .colab-df-container {\n",
              "      display:flex;\n",
              "      flex-wrap:wrap;\n",
              "      gap: 12px;\n",
              "    }\n",
              "\n",
              "    .colab-df-convert {\n",
              "      background-color: #E8F0FE;\n",
              "      border: none;\n",
              "      border-radius: 50%;\n",
              "      cursor: pointer;\n",
              "      display: none;\n",
              "      fill: #1967D2;\n",
              "      height: 32px;\n",
              "      padding: 0 0 0 0;\n",
              "      width: 32px;\n",
              "    }\n",
              "\n",
              "    .colab-df-convert:hover {\n",
              "      background-color: #E2EBFA;\n",
              "      box-shadow: 0px 1px 2px rgba(60, 64, 67, 0.3), 0px 1px 3px 1px rgba(60, 64, 67, 0.15);\n",
              "      fill: #174EA6;\n",
              "    }\n",
              "\n",
              "    [theme=dark] .colab-df-convert {\n",
              "      background-color: #3B4455;\n",
              "      fill: #D2E3FC;\n",
              "    }\n",
              "\n",
              "    [theme=dark] .colab-df-convert:hover {\n",
              "      background-color: #434B5C;\n",
              "      box-shadow: 0px 1px 3px 1px rgba(0, 0, 0, 0.15);\n",
              "      filter: drop-shadow(0px 1px 2px rgba(0, 0, 0, 0.3));\n",
              "      fill: #FFFFFF;\n",
              "    }\n",
              "  </style>\n",
              "\n",
              "      <script>\n",
              "        const buttonEl =\n",
              "          document.querySelector('#df-1cbd3b45-7ef8-43f2-a870-34a439a6af80 button.colab-df-convert');\n",
              "        buttonEl.style.display =\n",
              "          google.colab.kernel.accessAllowed ? 'block' : 'none';\n",
              "\n",
              "        async function convertToInteractive(key) {\n",
              "          const element = document.querySelector('#df-1cbd3b45-7ef8-43f2-a870-34a439a6af80');\n",
              "          const dataTable =\n",
              "            await google.colab.kernel.invokeFunction('convertToInteractive',\n",
              "                                                     [key], {});\n",
              "          if (!dataTable) return;\n",
              "\n",
              "          const docLinkHtml = 'Like what you see? Visit the ' +\n",
              "            '<a target=\"_blank\" href=https://colab.research.google.com/notebooks/data_table.ipynb>data table notebook</a>'\n",
              "            + ' to learn more about interactive tables.';\n",
              "          element.innerHTML = '';\n",
              "          dataTable['output_type'] = 'display_data';\n",
              "          await google.colab.output.renderOutput(dataTable, element);\n",
              "          const docLink = document.createElement('div');\n",
              "          docLink.innerHTML = docLinkHtml;\n",
              "          element.appendChild(docLink);\n",
              "        }\n",
              "      </script>\n",
              "    </div>\n",
              "  </div>\n",
              "  "
            ]
          },
          "metadata": {},
          "execution_count": 18
        }
      ],
      "source": [
        "data"
      ]
    },
    {
      "cell_type": "code",
      "execution_count": 19,
      "id": "5474899c",
      "metadata": {
        "id": "5474899c"
      },
      "outputs": [],
      "source": [
        "import matplotlib.pyplot as plt \n",
        "import seaborn as sns"
      ]
    },
    {
      "cell_type": "code",
      "execution_count": 20,
      "id": "215b97bf",
      "metadata": {
        "colab": {
          "base_uri": "https://localhost:8080/",
          "height": 638
        },
        "id": "215b97bf",
        "outputId": "b2702a39-b08c-47ee-a1fa-be971de9dc3d"
      },
      "outputs": [
        {
          "output_type": "execute_result",
          "data": {
            "text/plain": [
              "Text(0.5, 1.0, 'Average no. of words vs rating')"
            ]
          },
          "metadata": {},
          "execution_count": 20
        },
        {
          "output_type": "display_data",
          "data": {
            "text/plain": [
              "<Figure size 576x720 with 1 Axes>"
            ],
            "image/png": "[encoded data removed]"
          },
          "metadata": {
            "needs_background": "light"
          }
        }
      ],
      "source": [
        "plt.figure(figsize=(8,10))\n",
        "sns.barplot(x= \"rating\", y=\"word-count\", data=data)\n",
        "plt.title(\"Average no. of words vs rating\")"
      ]
    },
    {
      "cell_type": "code",
      "execution_count": 21,
      "id": "abf2ec72",
      "metadata": {
        "id": "abf2ec72"
      },
      "outputs": [],
      "source": [
        "from sklearn.model_selection import train_test_split\n",
        "train,test = train_test_split(data ,test_size=0.2)"
      ]
    },
    {
      "cell_type": "code",
      "execution_count": 22,
      "id": "faf7cb65",
      "metadata": {
        "colab": {
          "base_uri": "https://localhost:8080/"
        },
        "id": "faf7cb65",
        "outputId": "fa9ff1c4-74c4-4cf7-da30-ac8583a7899d"
      },
      "outputs": [
        {
          "output_type": "stream",
          "name": "stdout",
          "text": [
            "(8000, 5)\n",
            "(2000, 5)\n"
          ]
        }
      ],
      "source": [
        "print(train.shape)\n",
        "print(test.shape)"
      ]
    },
    {
      "cell_type": "code",
      "execution_count": 23,
      "id": "28f155bf",
      "metadata": {
        "colab": {
          "base_uri": "https://localhost:8080/"
        },
        "id": "28f155bf",
        "outputId": "a409d05a-dd47-47e4-f180-5cebdfb5001c"
      },
      "outputs": [
        {
          "output_type": "stream",
          "name": "stdout",
          "text": [
            "Looking in indexes: https://pypi.org/simple, https://us-python.pkg.dev/colab-wheels/public/simple/\n",
            "Requirement already satisfied: inflect in /usr/local/lib/python3.7/dist-packages (2.1.0)\n"
          ]
        }
      ],
      "source": [
        "!pip install inflect\n",
        "import inflect\n",
        "import gensim\n",
        "import string\n",
        "p=inflect.engine()"
      ]
    },
    {
      "cell_type": "code",
      "execution_count": 24,
      "id": "955bf3fe",
      "metadata": {
        "id": "955bf3fe"
      },
      "outputs": [],
      "source": [
        "def remove_emoji(text):\n",
        "    emoji_pattern = re.compile(\"[\"\n",
        "                           u\"\\U0001F600-\\U0001F64F\"  # emoticons\n",
        "                           u\"\\U0001F300-\\U0001F5FF\"  # symbols & pictographs\n",
        "                           u\"\\U0001F680-\\U0001F6FF\"  # transport & map symbols\n",
        "                           u\"\\U0001F1E0-\\U0001F1FF\"  # flags (iOS)\n",
        "                           u\"\\U00002702-\\U000027B0\"\n",
        "                           u\"\\U000024C2-\\U0001F251\"\n",
        "                           \"]+\", flags=re.UNICODE)\n",
        "    return emoji_pattern.sub(r'', text)\n"
      ]
    },
    {
      "cell_type": "code",
      "execution_count": 25,
      "id": "1d9c7042",
      "metadata": {
        "id": "1d9c7042"
      },
      "outputs": [],
      "source": [
        "# Remove html tag\n",
        "def clean_html(text):\n",
        "    clean = re.compile(\"<.*?>\")\n",
        "    return re.sub(clean, '', text)"
      ]
    },
    {
      "cell_type": "code",
      "execution_count": 26,
      "id": "7c7d1bb5",
      "metadata": {
        "id": "7c7d1bb5"
      },
      "outputs": [],
      "source": [
        "# COnvert to lowercase\n",
        "def convert_lower(text):\n",
        "    return text.lower()"
      ]
    },
    {
      "cell_type": "code",
      "execution_count": 27,
      "id": "435c1c9b",
      "metadata": {
        "id": "435c1c9b"
      },
      "outputs": [],
      "source": [
        "# Remove square barckets\n",
        "def remove_between_square_brackets(text):\n",
        "    return re.sub('\\[[^]]*\\]', '', text)"
      ]
    },
    {
      "cell_type": "code",
      "execution_count": 28,
      "id": "17893f7c",
      "metadata": {
        "id": "17893f7c"
      },
      "outputs": [],
      "source": [
        "# Remove special characters\n",
        "def remove_special_characters(text, remove_digits=True):\n",
        "    pattern=r'[^a-zA-z0-9\\s]'\n",
        "    text=re.sub(pattern,'',text)\n",
        "    return text"
      ]
    },
    {
      "cell_type": "code",
      "execution_count": 29,
      "id": "95dd39df",
      "metadata": {
        "id": "95dd39df"
      },
      "outputs": [],
      "source": [
        "# Remove emails\n",
        "def remove_emails(text):\n",
        "    pattern=r\"\\S+@\\S+\"\n",
        "    text=re.sub(pattern,'',text)\n",
        "    return text"
      ]
    },
    {
      "cell_type": "code",
      "execution_count": 30,
      "id": "d42d3dc7",
      "metadata": {
        "id": "d42d3dc7"
      },
      "outputs": [],
      "source": [
        "from nltk.tokenize.toktok import ToktokTokenizer"
      ]
    },
    {
      "cell_type": "code",
      "execution_count": 31,
      "id": "f12099ad",
      "metadata": {
        "id": "f12099ad"
      },
      "outputs": [],
      "source": [
        "#set stopwords to english\n",
        "stopword_list=nltk.corpus.stopwords.words('english')\n",
        "stop=set(stopwords.words('english'))\n",
        "tokenizer=ToktokTokenizer()\n",
        "#removing the stopwords\n",
        "def remove_stopwords(text, is_lower_case=False):\n",
        "    tokens = tokenizer.tokenize(text)\n",
        "    tokens = [token.strip() for token in tokens]\n",
        "    if is_lower_case:\n",
        "        filtered_tokens = [token for token in tokens if token not in stopword_list]\n",
        "    else:\n",
        "        filtered_tokens = [token for token in tokens if token.lower() not in stopword_list]\n",
        "    filtered_text = ' '.join(filtered_tokens)    \n",
        "    return filtered_text\n"
      ]
    },
    {
      "cell_type": "code",
      "execution_count": 32,
      "id": "9bd0c0ca",
      "metadata": {
        "id": "9bd0c0ca"
      },
      "outputs": [],
      "source": [
        "# Denoise the data\n",
        "def denoise_text(text):\n",
        "    text = clean_html(text)\n",
        "    text = convert_lower(text)\n",
        "    text = remove_between_square_brackets(text)\n",
        "    text = remove_emoji(text)\n",
        "    text = remove_special_characters(text)\n",
        "    text = remove_emails(text)\n",
        "    text = remove_stopwords(text)\n",
        "    return text"
      ]
    },
    {
      "cell_type": "code",
      "execution_count": 33,
      "id": "6f679189",
      "metadata": {
        "colab": {
          "base_uri": "https://localhost:8080/"
        },
        "id": "6f679189",
        "outputId": "67f519b2-55cf-4f40-a3bf-c9143dfb23c3"
      },
      "outputs": [
        {
          "output_type": "execute_result",
          "data": {
            "text/plain": [
              "6340     sociology professor meg visits jungle south am...\n",
              "5950     nice short book read end thats say depth book ...\n",
              "2310     traumatic meeting emerald sandford asher welli...\n",
              "1294     sorrybut disappointing read seemed like readin...\n",
              "9791     amid intentional spelling tiger tygertygre bri...\n",
              "                               ...                        \n",
              "2207     look cover read description book brutal everyo...\n",
              "10675    well written interesting accounting holocaust ...\n",
              "2035     cant believe books keep night wonder nightmare...\n",
              "2701     good coming age book information need know loo...\n",
              "1030     didnt understand last book place adam enemy go...\n",
              "Name: reviewText, Length: 10000, dtype: object"
            ]
          },
          "metadata": {},
          "execution_count": 33
        }
      ],
      "source": [
        "data['reviewText']=data[\"reviewText\"].apply(denoise_text)\n",
        "data[\"reviewText\"]"
      ]
    },
    {
      "cell_type": "code",
      "execution_count": 34,
      "id": "d8630c36",
      "metadata": {
        "colab": {
          "base_uri": "https://localhost:8080/"
        },
        "id": "d8630c36",
        "outputId": "dd1cbcac-e036-4c2b-8bbf-965bcba4b729"
      },
      "outputs": [
        {
          "output_type": "execute_result",
          "data": {
            "text/plain": [
              "2965     I usually trust the reviews I read on the book...\n",
              "2294     Wow! this was SHORT but as said in my note sec...\n",
              "2588     Wow, the moment you sit down with this book it...\n",
              "5040     \"Heat of Passion\" was a great short story. It'...\n",
              "11934    Well another plus for Brenda  Jackson  with th...\n",
              "                               ...                        \n",
              "2168     Exciting story full of twists and turns. It re...\n",
              "10069    I didn't even finish this. My idea of a good r...\n",
              "7318     The chararacters weren't very developed.  The ...\n",
              "3708     I actually like this. It was short but it kept...\n",
              "3139     If you enjoy M/M action, then you may like thi...\n",
              "Name: reviewText, Length: 8000, dtype: object"
            ]
          },
          "metadata": {},
          "execution_count": 34
        }
      ],
      "source": [
        "train[\"reviewText\"] "
      ]
    },
    {
      "cell_type": "code",
      "execution_count": 35,
      "id": "a613c2b9",
      "metadata": {
        "colab": {
          "base_uri": "https://localhost:8080/"
        },
        "id": "a613c2b9",
        "outputId": "0093b656-dd26-46a1-9d85-1f4ac27928f3"
      },
      "outputs": [
        {
          "output_type": "execute_result",
          "data": {
            "text/plain": [
              "2965     usually trust reviews read books im interested...\n",
              "2294     wow short said note section prequel given eboo...\n",
              "2588     wow moment sit book pulls dont know interestin...\n",
              "5040     heat passion great short story perfect filler ...\n",
              "11934    well another plus brenda jackson westmoreland ...\n",
              "                               ...                        \n",
              "2168     exciting story full twists turns really showed...\n",
              "10069    didnt even finish idea good read reading someo...\n",
              "7318     chararacters werent developed side stiry horny...\n",
              "3708     actually like short kept attention story flowe...\n",
              "3139     enjoy mm action may like book much truely wish...\n",
              "Name: reviewText, Length: 8000, dtype: object"
            ]
          },
          "metadata": {},
          "execution_count": 35
        }
      ],
      "source": [
        "train[\"reviewText\"] = train[\"reviewText\"].apply(denoise_text)\n",
        "train[\"reviewText\"]"
      ]
    },
    {
      "cell_type": "code",
      "execution_count": 36,
      "id": "f9439949",
      "metadata": {
        "colab": {
          "base_uri": "https://localhost:8080/"
        },
        "id": "f9439949",
        "outputId": "96564ae5-4ee9-4b1b-e3cb-f135f0d557c7"
      },
      "outputs": [
        {
          "output_type": "execute_result",
          "data": {
            "text/plain": [
              "6321    carly looking get away hectic life completely ...\n",
              "1245    liked story liked nash thought stacy aiiight t...\n",
              "991     wary reading bookas never read well written cr...\n",
              "4752    book great start fades fast many grammatical s...\n",
              "1188    serial currently available kindle novella cowr...\n",
              "                              ...                        \n",
              "4203    awful even free total waste time easy come fre...\n",
              "4046    maybe didnt look hard spelling grammar problem...\n",
              "374     glad info background characters series usual h...\n",
              "8165    time sat write review realized couldnt even re...\n",
              "6224    author hard time bringing storyand especially ...\n",
              "Name: reviewText, Length: 2000, dtype: object"
            ]
          },
          "metadata": {},
          "execution_count": 36
        }
      ],
      "source": [
        "test[\"reviewText\"] = test[\"reviewText\"].apply(denoise_text)\n",
        "test[\"reviewText\"]"
      ]
    },
    {
      "cell_type": "code",
      "execution_count": 37,
      "id": "51bffea2",
      "metadata": {
        "colab": {
          "base_uri": "https://localhost:8080/"
        },
        "id": "51bffea2",
        "outputId": "a69d797f-5c3e-42da-8d36-e18f8af64cef"
      },
      "outputs": [
        {
          "output_type": "stream",
          "name": "stderr",
          "text": [
            "[nltk_data] Downloading package vader_lexicon to /root/nltk_data...\n",
            "[nltk_data]   Package vader_lexicon is already up-to-date!\n"
          ]
        }
      ],
      "source": [
        "nltk.download(\"vader_lexicon\")\n",
        "from nltk.sentiment import SentimentIntensityAnalyzer\n",
        "#from vaderSentiment.vaderSentiment import SentimentIntensityAnalyzer\n",
        "from tqdm.notebook import tqdm\n",
        "\n",
        "sia = SentimentIntensityAnalyzer()"
      ]
    },
    {
      "cell_type": "code",
      "execution_count": 38,
      "id": "814be064",
      "metadata": {
        "colab": {
          "base_uri": "https://localhost:8080/"
        },
        "id": "814be064",
        "outputId": "0e18442f-409e-4e49-8122-8fc10b59eae8"
      },
      "outputs": [
        {
          "output_type": "execute_result",
          "data": {
            "text/plain": [
              "{'neg': 0.0, 'neu': 0.318, 'pos': 0.682, 'compound': 0.6468}"
            ]
          },
          "metadata": {},
          "execution_count": 38
        }
      ],
      "source": [
        "sia.polarity_scores('I am so happy!')"
      ]
    },
    {
      "cell_type": "code",
      "execution_count": 39,
      "id": "22ce2125",
      "metadata": {
        "colab": {
          "base_uri": "https://localhost:8080/"
        },
        "id": "22ce2125",
        "outputId": "a0e9a060-e0d2-456b-da98-0882ec37fe62"
      },
      "outputs": [
        {
          "output_type": "execute_result",
          "data": {
            "text/plain": [
              "{'neg': 0.451, 'neu': 0.549, 'pos': 0.0, 'compound': -0.6249}"
            ]
          },
          "metadata": {},
          "execution_count": 39
        }
      ],
      "source": [
        "sia.polarity_scores('This is the worst thing ever.')"
      ]
    },
    {
      "cell_type": "code",
      "execution_count": 40,
      "id": "c12b500d",
      "metadata": {
        "colab": {
          "base_uri": "https://localhost:8080/",
          "height": 49,
          "referenced_widgets": [
            "72c26b1285b64b94890269979027b388",
            "1d54b7cbcc6a418f908d4d69354692c4",
            "ff9c7370de9b40ab8329144d2b5e9775",
            "4e7c6723f042445c9b59036e751739b5",
            "8c530d29b7e443948993222b67c5cd3f",
            "b24fe19f0a2746708c331f4e37269de2",
            "7e04aa20535c45da847e6b03738ac9ec",
            "5ab40268492e44b9b4280e661174ddce",
            "01089e571c7c4f43b8af00c321d674c3",
            "0c52f85129c24419b03a8d83ec20932a",
            "4fd288e124e84da9b7e096c9a1e12e23"
          ]
        },
        "id": "c12b500d",
        "outputId": "561155e1-145e-4735-db0e-790c06003e53"
      },
      "outputs": [
        {
          "output_type": "display_data",
          "data": {
            "text/plain": [
              "  0%|          | 0/10000 [00:00<?, ?it/s]"
            ],
            "application/vnd.jupyter.widget-view+json": {
              "version_major": 2,
              "version_minor": 0,
              "model_id": "72c26b1285b64b94890269979027b388"
            }
          },
          "metadata": {}
        }
      ],
      "source": [
        "# Run the polarity score on the entire dataset\n",
        "res = {}\n",
        "for i, row in tqdm(data.iterrows(), total=len(data)):\n",
        "    reviewText = row['reviewText']\n",
        "    asin = row['asin']\n",
        "    res[asin] = sia.polarity_scores(reviewText)"
      ]
    },
    {
      "cell_type": "code",
      "execution_count": 41,
      "id": "5be14250",
      "metadata": {
        "colab": {
          "base_uri": "https://localhost:8080/",
          "height": 206
        },
        "id": "5be14250",
        "outputId": "7d1aee04-e250-4483-9d8c-c7d98308d0e7"
      },
      "outputs": [
        {
          "output_type": "execute_result",
          "data": {
            "text/plain": [
              "            asin    neg    neu    pos  compound  rating  \\\n",
              "9995  B002MPQ67M  0.129  0.717  0.154    0.2163       0   \n",
              "9996  B0044DEGIQ  0.288  0.471  0.241    0.0552       0   \n",
              "9997  B003LBSJ9O  0.000  0.662  0.338    0.8481       0   \n",
              "9998  B0042P5D42  0.237  0.548  0.215   -0.1606       0   \n",
              "9999  B004HW6EY8  0.352  0.648  0.000   -0.8836       0   \n",
              "\n",
              "                                             reviewText  \\\n",
              "9995  dialogue book tends rather simplistic book wou...   \n",
              "9996  downloaded thinking something else might great...   \n",
              "9997  couldnt get book didnt grab attention beginnin...   \n",
              "9998  received book librarythings giveaway program l...   \n",
              "9999  didnt understand last book place adam enemy go...   \n",
              "\n",
              "                    summary  word-count  \n",
              "9995     Dominatrix Murders          65  \n",
              "9996          wasn't for me          23  \n",
              "9997      Never finished it          52  \n",
              "9998  Needs serious editing         112  \n",
              "9999     all over the place          43  "
            ],
            "text/html": [
              "\n",
              "  <div id=\"df-f15eb28e-47cb-4e61-85e7-9ef5bc9b9b1b\">\n",
              "    <div class=\"colab-df-container\">\n",
              "      <div>\n",
              "<style scoped>\n",
              "    .dataframe tbody tr th:only-of-type {\n",
              "        vertical-align: middle;\n",
              "    }\n",
              "\n",
              "    .dataframe tbody tr th {\n",
              "        vertical-align: top;\n",
              "    }\n",
              "\n",
              "    .dataframe thead th {\n",
              "        text-align: right;\n",
              "    }\n",
              "</style>\n",
              "<table border=\"1\" class=\"dataframe\">\n",
              "  <thead>\n",
              "    <tr style=\"text-align: right;\">\n",
              "      <th></th>\n",
              "      <th>asin</th>\n",
              "      <th>neg</th>\n",
              "      <th>neu</th>\n",
              "      <th>pos</th>\n",
              "      <th>compound</th>\n",
              "      <th>rating</th>\n",
              "      <th>reviewText</th>\n",
              "      <th>summary</th>\n",
              "      <th>word-count</th>\n",
              "    </tr>\n",
              "  </thead>\n",
              "  <tbody>\n",
              "    <tr>\n",
              "      <th>9995</th>\n",
              "      <td>B002MPQ67M</td>\n",
              "      <td>0.129</td>\n",
              "      <td>0.717</td>\n",
              "      <td>0.154</td>\n",
              "      <td>0.2163</td>\n",
              "      <td>0</td>\n",
              "      <td>dialogue book tends rather simplistic book wou...</td>\n",
              "      <td>Dominatrix Murders</td>\n",
              "      <td>65</td>\n",
              "    </tr>\n",
              "    <tr>\n",
              "      <th>9996</th>\n",
              "      <td>B0044DEGIQ</td>\n",
              "      <td>0.288</td>\n",
              "      <td>0.471</td>\n",
              "      <td>0.241</td>\n",
              "      <td>0.0552</td>\n",
              "      <td>0</td>\n",
              "      <td>downloaded thinking something else might great...</td>\n",
              "      <td>wasn't for me</td>\n",
              "      <td>23</td>\n",
              "    </tr>\n",
              "    <tr>\n",
              "      <th>9997</th>\n",
              "      <td>B003LBSJ9O</td>\n",
              "      <td>0.000</td>\n",
              "      <td>0.662</td>\n",
              "      <td>0.338</td>\n",
              "      <td>0.8481</td>\n",
              "      <td>0</td>\n",
              "      <td>couldnt get book didnt grab attention beginnin...</td>\n",
              "      <td>Never finished it</td>\n",
              "      <td>52</td>\n",
              "    </tr>\n",
              "    <tr>\n",
              "      <th>9998</th>\n",
              "      <td>B0042P5D42</td>\n",
              "      <td>0.237</td>\n",
              "      <td>0.548</td>\n",
              "      <td>0.215</td>\n",
              "      <td>-0.1606</td>\n",
              "      <td>0</td>\n",
              "      <td>received book librarythings giveaway program l...</td>\n",
              "      <td>Needs serious editing</td>\n",
              "      <td>112</td>\n",
              "    </tr>\n",
              "    <tr>\n",
              "      <th>9999</th>\n",
              "      <td>B004HW6EY8</td>\n",
              "      <td>0.352</td>\n",
              "      <td>0.648</td>\n",
              "      <td>0.000</td>\n",
              "      <td>-0.8836</td>\n",
              "      <td>0</td>\n",
              "      <td>didnt understand last book place adam enemy go...</td>\n",
              "      <td>all over the place</td>\n",
              "      <td>43</td>\n",
              "    </tr>\n",
              "  </tbody>\n",
              "</table>\n",
              "</div>\n",
              "      <button class=\"colab-df-convert\" onclick=\"convertToInteractive('df-f15eb28e-47cb-4e61-85e7-9ef5bc9b9b1b')\"\n",
              "              title=\"Convert this dataframe to an interactive table.\"\n",
              "              style=\"display:none;\">\n",
              "        \n",
              "  <svg xmlns=\"http://www.w3.org/2000/svg\" height=\"24px\"viewBox=\"0 0 24 24\"\n",
              "       width=\"24px\">\n",
              "    <path d=\"M0 0h24v24H0V0z\" fill=\"none\"/>\n",
              "    <path d=\"M18.56 5.44l.94 2.06.94-2.06 2.06-.94-2.06-.94-.94-2.06-.94 2.06-2.06.94zm-11 1L8.5 8.5l.94-2.06 2.06-.94-2.06-.94L8.5 2.5l-.94 2.06-2.06.94zm10 10l.94 2.06.94-2.06 2.06-.94-2.06-.94-.94-2.06-.94 2.06-2.06.94z\"/><path d=\"M17.41 7.96l-1.37-1.37c-.4-.4-.92-.59-1.43-.59-.52 0-1.04.2-1.43.59L10.3 9.45l-7.72 7.72c-.78.78-.78 2.05 0 2.83L4 21.41c.39.39.9.59 1.41.59.51 0 1.02-.2 1.41-.59l7.78-7.78 2.81-2.81c.8-.78.8-2.07 0-2.86zM5.41 20L4 18.59l7.72-7.72 1.47 1.35L5.41 20z\"/>\n",
              "  </svg>\n",
              "      </button>\n",
              "      \n",
              "  <style>\n",
              "    .colab-df-container {\n",
              "      display:flex;\n",
              "      flex-wrap:wrap;\n",
              "      gap: 12px;\n",
              "    }\n",
              "\n",
              "    .colab-df-convert {\n",
              "      background-color: #E8F0FE;\n",
              "      border: none;\n",
              "      border-radius: 50%;\n",
              "      cursor: pointer;\n",
              "      display: none;\n",
              "      fill: #1967D2;\n",
              "      height: 32px;\n",
              "      padding: 0 0 0 0;\n",
              "      width: 32px;\n",
              "    }\n",
              "\n",
              "    .colab-df-convert:hover {\n",
              "      background-color: #E2EBFA;\n",
              "      box-shadow: 0px 1px 2px rgba(60, 64, 67, 0.3), 0px 1px 3px 1px rgba(60, 64, 67, 0.15);\n",
              "      fill: #174EA6;\n",
              "    }\n",
              "\n",
              "    [theme=dark] .colab-df-convert {\n",
              "      background-color: #3B4455;\n",
              "      fill: #D2E3FC;\n",
              "    }\n",
              "\n",
              "    [theme=dark] .colab-df-convert:hover {\n",
              "      background-color: #434B5C;\n",
              "      box-shadow: 0px 1px 3px 1px rgba(0, 0, 0, 0.15);\n",
              "      filter: drop-shadow(0px 1px 2px rgba(0, 0, 0, 0.3));\n",
              "      fill: #FFFFFF;\n",
              "    }\n",
              "  </style>\n",
              "\n",
              "      <script>\n",
              "        const buttonEl =\n",
              "          document.querySelector('#df-f15eb28e-47cb-4e61-85e7-9ef5bc9b9b1b button.colab-df-convert');\n",
              "        buttonEl.style.display =\n",
              "          google.colab.kernel.accessAllowed ? 'block' : 'none';\n",
              "\n",
              "        async function convertToInteractive(key) {\n",
              "          const element = document.querySelector('#df-f15eb28e-47cb-4e61-85e7-9ef5bc9b9b1b');\n",
              "          const dataTable =\n",
              "            await google.colab.kernel.invokeFunction('convertToInteractive',\n",
              "                                                     [key], {});\n",
              "          if (!dataTable) return;\n",
              "\n",
              "          const docLinkHtml = 'Like what you see? Visit the ' +\n",
              "            '<a target=\"_blank\" href=https://colab.research.google.com/notebooks/data_table.ipynb>data table notebook</a>'\n",
              "            + ' to learn more about interactive tables.';\n",
              "          element.innerHTML = '';\n",
              "          dataTable['output_type'] = 'display_data';\n",
              "          await google.colab.output.renderOutput(dataTable, element);\n",
              "          const docLink = document.createElement('div');\n",
              "          docLink.innerHTML = docLinkHtml;\n",
              "          element.appendChild(docLink);\n",
              "        }\n",
              "      </script>\n",
              "    </div>\n",
              "  </div>\n",
              "  "
            ]
          },
          "metadata": {},
          "execution_count": 41
        }
      ],
      "source": [
        "vaders = pd.DataFrame(res).T\n",
        "vaders = vaders.reset_index().rename(columns={'index': 'asin'})\n",
        "vaders = vaders.merge(data, how='left')\n",
        "vaders.tail()"
      ]
    },
    {
      "cell_type": "code",
      "execution_count": 42,
      "id": "3291fb94",
      "metadata": {
        "colab": {
          "base_uri": "https://localhost:8080/"
        },
        "id": "3291fb94",
        "outputId": "5e43891b-b5b2-430e-ffc5-841d54a6651d"
      },
      "outputs": [
        {
          "output_type": "execute_result",
          "data": {
            "text/plain": [
              "(10000, 9)"
            ]
          },
          "metadata": {},
          "execution_count": 42
        }
      ],
      "source": [
        "vaders.shape"
      ]
    },
    {
      "cell_type": "code",
      "execution_count": 43,
      "id": "3c3f77fc",
      "metadata": {
        "colab": {
          "base_uri": "https://localhost:8080/",
          "height": 295
        },
        "id": "3c3f77fc",
        "outputId": "4c2dbada-9d5c-4e2e-f057-0580382d0c3a"
      },
      "outputs": [
        {
          "output_type": "display_data",
          "data": {
            "text/plain": [
              "<Figure size 432x288 with 1 Axes>"
            ],
            "image/png": "[encoded data removed]"
          },
          "metadata": {
            "needs_background": "light"
          }
        }
      ],
      "source": [
        "ax = sns.barplot(data=vaders, x=\"rating\", y=\"compound\")\n",
        "ax.set_title('Compund Score by Amazon Star Review')\n",
        "plt.show()"
      ]
    },
    {
      "cell_type": "code",
      "execution_count": 44,
      "id": "3d43cb76",
      "metadata": {
        "colab": {
          "base_uri": "https://localhost:8080/",
          "height": 225
        },
        "id": "3d43cb76",
        "outputId": "c5a0dc88-cc6c-407f-bfa7-0fddb92d017f"
      },
      "outputs": [
        {
          "output_type": "display_data",
          "data": {
            "text/plain": [
              "<Figure size 864x216 with 3 Axes>"
            ],
            "image/png": "[encoded data removed]"
          },
          "metadata": {
            "needs_background": "light"
          }
        }
      ],
      "source": [
        "fig, axs = plt.subplots(1, 3, figsize=(12, 3))\n",
        "sns.barplot(data=vaders, x=\"rating\", y='pos', ax=axs[0])\n",
        "sns.barplot(data=vaders, x=\"rating\", y='neu', ax=axs[1])\n",
        "sns.barplot(data=vaders, x=\"rating\", y='neg', ax=axs[2])\n",
        "axs[0].set_title('Positive')\n",
        "axs[1].set_title('Neutral')\n",
        "axs[2].set_title('Negative')\n",
        "plt.tight_layout()\n",
        "plt.show()"
      ]
    },
    {
      "cell_type": "markdown",
      "id": "348c9851",
      "metadata": {
        "id": "348c9851"
      },
      "source": [
        "### Roberta Pretrained Model "
      ]
    },
    {
      "cell_type": "code",
      "source": [
        "! pip install transformers"
      ],
      "metadata": {
        "colab": {
          "base_uri": "https://localhost:8080/"
        },
        "id": "WRBHH9JZMGwI",
        "outputId": "b8691c81-a62c-46c4-cddd-ef9e853918c9"
      },
      "id": "WRBHH9JZMGwI",
      "execution_count": 45,
      "outputs": [
        {
          "output_type": "stream",
          "name": "stdout",
          "text": [
            "Looking in indexes: https://pypi.org/simple, https://us-python.pkg.dev/colab-wheels/public/simple/\n",
            "Requirement already satisfied: transformers in /usr/local/lib/python3.7/dist-packages (4.21.1)\n",
            "Requirement already satisfied: requests in /usr/local/lib/python3.7/dist-packages (from transformers) (2.23.0)\n",
            "Requirement already satisfied: pyyaml>=5.1 in /usr/local/lib/python3.7/dist-packages (from transformers) (6.0)\n",
            "Requirement already satisfied: filelock in /usr/local/lib/python3.7/dist-packages (from transformers) (3.8.0)\n",
            "Requirement already satisfied: tokenizers!=0.11.3,<0.13,>=0.11.1 in /usr/local/lib/python3.7/dist-packages (from transformers) (0.12.1)\n",
            "Requirement already satisfied: tqdm>=4.27 in /usr/local/lib/python3.7/dist-packages (from transformers) (4.64.0)\n",
            "Requirement already satisfied: numpy>=1.17 in /usr/local/lib/python3.7/dist-packages (from transformers) (1.21.6)\n",
            "Requirement already satisfied: regex!=2019.12.17 in /usr/local/lib/python3.7/dist-packages (from transformers) (2022.6.2)\n",
            "Requirement already satisfied: packaging>=20.0 in /usr/local/lib/python3.7/dist-packages (from transformers) (21.3)\n",
            "Requirement already satisfied: importlib-metadata in /usr/local/lib/python3.7/dist-packages (from transformers) (4.12.0)\n",
            "Requirement already satisfied: huggingface-hub<1.0,>=0.1.0 in /usr/local/lib/python3.7/dist-packages (from transformers) (0.8.1)\n",
            "Requirement already satisfied: typing-extensions>=3.7.4.3 in /usr/local/lib/python3.7/dist-packages (from huggingface-hub<1.0,>=0.1.0->transformers) (4.1.1)\n",
            "Requirement already satisfied: pyparsing!=3.0.5,>=2.0.2 in /usr/local/lib/python3.7/dist-packages (from packaging>=20.0->transformers) (3.0.9)\n",
            "Requirement already satisfied: zipp>=0.5 in /usr/local/lib/python3.7/dist-packages (from importlib-metadata->transformers) (3.8.1)\n",
            "Requirement already satisfied: chardet<4,>=3.0.2 in /usr/local/lib/python3.7/dist-packages (from requests->transformers) (3.0.4)\n",
            "Requirement already satisfied: idna<3,>=2.5 in /usr/local/lib/python3.7/dist-packages (from requests->transformers) (2.10)\n",
            "Requirement already satisfied: certifi>=2017.4.17 in /usr/local/lib/python3.7/dist-packages (from requests->transformers) (2022.6.15)\n",
            "Requirement already satisfied: urllib3!=1.25.0,!=1.25.1,<1.26,>=1.21.1 in /usr/local/lib/python3.7/dist-packages (from requests->transformers) (1.24.3)\n"
          ]
        }
      ]
    },
    {
      "cell_type": "code",
      "execution_count": 46,
      "id": "51b83d99",
      "metadata": {
        "id": "51b83d99"
      },
      "outputs": [],
      "source": [
        "from transformers import AutoTokenizer\n",
        "from transformers import AutoModelForSequenceClassification\n",
        "from scipy.special import softmax\n"
      ]
    },
    {
      "cell_type": "code",
      "execution_count": 47,
      "id": "2164bfda",
      "metadata": {
        "id": "2164bfda"
      },
      "outputs": [],
      "source": [
        "MODEL = f\"cardiffnlp/twitter-roberta-base-sentiment\"\n",
        "tokenizer = AutoTokenizer.from_pretrained(MODEL)\n",
        "model = AutoModelForSequenceClassification.from_pretrained(MODEL)"
      ]
    },
    {
      "cell_type": "code",
      "source": [
        "example = \"This oatmeal is not good. Its mushy, soft, I don't like it. Quaker Oats is the way to go.\""
      ],
      "metadata": {
        "id": "SLPcM6qfPBxb"
      },
      "id": "SLPcM6qfPBxb",
      "execution_count": 48,
      "outputs": []
    },
    {
      "cell_type": "code",
      "source": [
        "# Run for Roberta Model\n",
        "encoded_text = tokenizer(example, return_tensors='pt')\n",
        "output = model(**encoded_text)\n",
        "scores = output[0][0].detach().numpy()\n",
        "scores = softmax(scores)\n",
        "scores_dict = {\n",
        "    'roberta_neg' : scores[0],\n",
        "    'roberta_neu' : scores[1],\n",
        "    'roberta_pos' : scores[2]\n",
        "}\n",
        "print(scores_dict)"
      ],
      "metadata": {
        "colab": {
          "base_uri": "https://localhost:8080/"
        },
        "id": "3ghPPgm_OBVG",
        "outputId": "06fb65a8-9e4c-4fbc-843f-ca912a9e1f8b"
      },
      "id": "3ghPPgm_OBVG",
      "execution_count": 49,
      "outputs": [
        {
          "output_type": "stream",
          "name": "stdout",
          "text": [
            "{'roberta_neg': 0.9763551, 'roberta_neu': 0.020687476, 'roberta_pos': 0.0029573715}\n"
          ]
        }
      ]
    },
    {
      "cell_type": "code",
      "source": [
        "def polarity_scores_roberta(example):\n",
        "    encoded_text = tokenizer(example, return_tensors='pt')\n",
        "    output = model(**encoded_text)\n",
        "    scores = output[0][0].detach().numpy()\n",
        "    scores = softmax(scores)\n",
        "    scores_dict = {\n",
        "        'roberta_neg' : scores[0],\n",
        "        'roberta_neu' : scores[1],\n",
        "        'roberta_pos' : scores[2]\n",
        "    }\n",
        "    return scores_dict"
      ],
      "metadata": {
        "id": "hfo-G1ptemiJ"
      },
      "id": "hfo-G1ptemiJ",
      "execution_count": 50,
      "outputs": []
    },
    {
      "cell_type": "code",
      "source": [
        "res = {}\n",
        "for i, row in tqdm(data.iterrows(), total=len(data)):\n",
        "      text = row['reviewText']\n",
        "      asin = row['asin']\n",
        "      res[asin] = polarity_scores_roberta(reviewText)"
      ],
      "metadata": {
        "colab": {
          "base_uri": "https://localhost:8080/",
          "height": 49,
          "referenced_widgets": [
            "b7e45daeb8dd489c97f97e718e046c38",
            "2d6a92f88d6d4cc3969abc82dfdcdee5",
            "1c9492d53ba64d13afa461a43acb0c71",
            "d601b6dcc3eb42d39b9e85a46adae312",
            "b27d192d5c60417a85d098725e8ad403",
            "0603f9b17b2a4479abf433bf014d34ca",
            "61bec10b15ad4a4999d1637f65bd7301",
            "02dc0d65ec70483da1157b79bbd45393",
            "33adeef4990c4a33a3bafd487b1ce47e",
            "1b8aad6a8a6a484c8b35cdd305aa9a24",
            "e90959e543084621a1c27bf8f9a1b8c6"
          ]
        },
        "id": "NSyBn9LJP9K3",
        "outputId": "32fcf348-014a-48b2-e90a-1978ec0ded5a"
      },
      "id": "NSyBn9LJP9K3",
      "execution_count": 51,
      "outputs": [
        {
          "output_type": "display_data",
          "data": {
            "text/plain": [
              "  0%|          | 0/10000 [00:00<?, ?it/s]"
            ],
            "application/vnd.jupyter.widget-view+json": {
              "version_major": 2,
              "version_minor": 0,
              "model_id": "b7e45daeb8dd489c97f97e718e046c38"
            }
          },
          "metadata": {}
        }
      ]
    },
    {
      "cell_type": "code",
      "source": [
        "results_df = pd.DataFrame(res).T\n",
        "results_df = results_df.reset_index().rename(columns={'index': 'asin'})\n",
        "results_df = results_df.merge(vaders, how='left')"
      ],
      "metadata": {
        "id": "NQ7p6MgpczWv"
      },
      "id": "NQ7p6MgpczWv",
      "execution_count": 52,
      "outputs": []
    },
    {
      "cell_type": "code",
      "source": [
        "results_df.columns"
      ],
      "metadata": {
        "colab": {
          "base_uri": "https://localhost:8080/"
        },
        "id": "8vNneJVAlAHd",
        "outputId": "57d49437-3847-471d-8b6e-4413dc655970"
      },
      "id": "8vNneJVAlAHd",
      "execution_count": 53,
      "outputs": [
        {
          "output_type": "execute_result",
          "data": {
            "text/plain": [
              "Index(['asin', 'roberta_neg', 'roberta_neu', 'roberta_pos', 'neg', 'neu',\n",
              "       'pos', 'compound', 'rating', 'reviewText', 'summary', 'word-count'],\n",
              "      dtype='object')"
            ]
          },
          "metadata": {},
          "execution_count": 53
        }
      ]
    },
    {
      "cell_type": "code",
      "source": [
        "results_df.rename(columns = {'neg':'vader_neg', 'neu':'vader_neu',\n",
        "                              'pos':'vader_pos'}, inplace = True)\n",
        "results_df.columns"
      ],
      "metadata": {
        "colab": {
          "base_uri": "https://localhost:8080/"
        },
        "id": "eSF4GUFbm0nY",
        "outputId": "36525481-06c5-44b8-a727-043a273fb93c"
      },
      "id": "eSF4GUFbm0nY",
      "execution_count": 54,
      "outputs": [
        {
          "output_type": "execute_result",
          "data": {
            "text/plain": [
              "Index(['asin', 'roberta_neg', 'roberta_neu', 'roberta_pos', 'vader_neg',\n",
              "       'vader_neu', 'vader_pos', 'compound', 'rating', 'reviewText', 'summary',\n",
              "       'word-count'],\n",
              "      dtype='object')"
            ]
          },
          "metadata": {},
          "execution_count": 54
        }
      ]
    },
    {
      "cell_type": "code",
      "source": [
        "sns.pairplot(data=results_df,\n",
        "             vars=['vader_neg', 'vader_neu', 'vader_pos',\n",
        "                  'roberta_neg', 'roberta_neu', 'roberta_pos'],\n",
        "            hue='rating',\n",
        "            palette='tab10')\n",
        "plt.show()"
      ],
      "metadata": {
        "colab": {
          "base_uri": "https://localhost:8080/",
          "height": 1000
        },
        "id": "u8aPViDwnMrv",
        "outputId": "213f57c0-698b-48c2-b7f0-5248621e1a30"
      },
      "id": "u8aPViDwnMrv",
      "execution_count": 55,
      "outputs": [
        {
          "output_type": "display_data",
          "data": {
            "text/plain": [
              "<Figure size 1122.38x1080 with 42 Axes>"
            ],
            "image/png": "[encoded data removed]"
          },
          "metadata": {
            "needs_background": "light"
          }
        }
      ]
    },
    {
      "cell_type": "code",
      "source": [
        "results_df.query('rating == 1') \\\n",
        "    .sort_values('roberta_pos', ascending=False)['reviewText'].values[0]"
      ],
      "metadata": {
        "colab": {
          "base_uri": "https://localhost:8080/",
          "height": 70
        },
        "id": "mMEAQ-cqnrQB",
        "outputId": "f29e8c14-b0f9-4bb2-a555-c9b7d99f2219"
      },
      "id": "mMEAQ-cqnrQB",
      "execution_count": 56,
      "outputs": [
        {
          "output_type": "execute_result",
          "data": {
            "text/plain": [
              "'sociology professor meg visits jungle south america looking ruins finds wounded jaguar hears local helpers running away next day finds scared turns wounded jaguar mansantiago knows human women kind dont mix helps save life starts falling hertreasure hunting nice little treasure indiana jones type action creepy bad guys hot strange love scenes sex tree story keeps interest way end treasure hunting thoroughly enjoyable readvivian'"
            ],
            "application/vnd.google.colaboratory.intrinsic+json": {
              "type": "string"
            }
          },
          "metadata": {},
          "execution_count": 56
        }
      ]
    },
    {
      "cell_type": "code",
      "source": [
        "results_df.query('rating == 1') \\\n",
        "    .sort_values('vader_pos', ascending=False)['reviewText'].values[0]"
      ],
      "metadata": {
        "colab": {
          "base_uri": "https://localhost:8080/",
          "height": 35
        },
        "id": "XdnYq8Spn4uS",
        "outputId": "a3c1a739-2b6e-4534-9ae5-4ee3d5d1477b"
      },
      "id": "XdnYq8Spn4uS",
      "execution_count": 57,
      "outputs": [
        {
          "output_type": "execute_result",
          "data": {
            "text/plain": [
              "'enjoyed christmas romance kindle revisit anytime want reread'"
            ],
            "application/vnd.google.colaboratory.intrinsic+json": {
              "type": "string"
            }
          },
          "metadata": {},
          "execution_count": 57
        }
      ]
    },
    {
      "cell_type": "code",
      "source": [
        "results_df.query('rating == 0') \\\n",
        "    .sort_values('roberta_neg', ascending=False)['reviewText'].values[0]"
      ],
      "metadata": {
        "colab": {
          "base_uri": "https://localhost:8080/",
          "height": 35
        },
        "id": "HQn9sI3QoG6-",
        "outputId": "fa6d4c11-92bd-4959-ce05-d3d021a3cfdb"
      },
      "id": "HQn9sI3QoG6-",
      "execution_count": 58,
      "outputs": [
        {
          "output_type": "execute_result",
          "data": {
            "text/plain": [
              "'sorrybut disappointing read seemed like reading high school lit class assignment one stories surprised'"
            ],
            "application/vnd.google.colaboratory.intrinsic+json": {
              "type": "string"
            }
          },
          "metadata": {},
          "execution_count": 58
        }
      ]
    },
    {
      "cell_type": "code",
      "source": [
        "results_df.query('rating == 0') \\\n",
        "    .sort_values('vader_neg', ascending=False)['reviewText'].values[0]"
      ],
      "metadata": {
        "colab": {
          "base_uri": "https://localhost:8080/",
          "height": 35
        },
        "id": "fqCyFXNiovo4",
        "outputId": "903c8c86-2d37-4b87-e569-3f14eae34033"
      },
      "id": "fqCyFXNiovo4",
      "execution_count": 59,
      "outputs": [
        {
          "output_type": "execute_result",
          "data": {
            "text/plain": [
              "'badly formatted grammatical errors towards end disliked jarring pov setting changes characterization weak boring'"
            ],
            "application/vnd.google.colaboratory.intrinsic+json": {
              "type": "string"
            }
          },
          "metadata": {},
          "execution_count": 59
        }
      ]
    },
    {
      "cell_type": "code",
      "source": [
        ""
      ],
      "metadata": {
        "id": "9HScqYhPLkY6"
      },
      "id": "9HScqYhPLkY6",
      "execution_count": 59,
      "outputs": []
    }
  ],
  "metadata": {
    "kernelspec": {
      "display_name": "Python 3 (ipykernel)",
      "language": "python",
      "name": "python3"
    },
    "language_info": {
      "codemirror_mode": {
        "name": "ipython",
        "version": 3
      },
      "file_extension": ".py",
      "mimetype": "text/x-python",
      "name": "python",
      "nbconvert_exporter": "python",
      "pygments_lexer": "ipython3",
      "version": "3.9.12"
    },
    "colab": {
      "name": "Kindle sentiment analysis.ipynb",
      "provenance": [],
      "collapsed_sections": []
    },
    "widgets": {
      "application/vnd.jupyter.widget-state+json": {
        "72c26b1285b64b94890269979027b388": {
          "model_module": "@jupyter-widgets/controls",
          "model_name": "HBoxModel",
          "model_module_version": "1.5.0",
          "state": {
            "_dom_classes": [],
            "_model_module": "@jupyter-widgets/controls",
            "_model_module_version": "1.5.0",
            "_model_name": "HBoxModel",
            "_view_count": null,
            "_view_module": "@jupyter-widgets/controls",
            "_view_module_version": "1.5.0",
            "_view_name": "HBoxView",
            "box_style": "",
            "children": [
              "IPY_MODEL_1d54b7cbcc6a418f908d4d69354692c4",
              "IPY_MODEL_ff9c7370de9b40ab8329144d2b5e9775",
              "IPY_MODEL_4e7c6723f042445c9b59036e751739b5"
            ],
            "layout": "IPY_MODEL_8c530d29b7e443948993222b67c5cd3f"
          }
        },
        "1d54b7cbcc6a418f908d4d69354692c4": {
          "model_module": "@jupyter-widgets/controls",
          "model_name": "HTMLModel",
          "model_module_version": "1.5.0",
          "state": {
            "_dom_classes": [],
            "_model_module": "@jupyter-widgets/controls",
            "_model_module_version": "1.5.0",
            "_model_name": "HTMLModel",
            "_view_count": null,
            "_view_module": "@jupyter-widgets/controls",
            "_view_module_version": "1.5.0",
            "_view_name": "HTMLView",
            "description": "",
            "description_tooltip": null,
            "layout": "IPY_MODEL_b24fe19f0a2746708c331f4e37269de2",
            "placeholder": "​",
            "style": "IPY_MODEL_7e04aa20535c45da847e6b03738ac9ec",
            "value": "100%"
          }
        },
        "ff9c7370de9b40ab8329144d2b5e9775": {
          "model_module": "@jupyter-widgets/controls",
          "model_name": "FloatProgressModel",
          "model_module_version": "1.5.0",
          "state": {
            "_dom_classes": [],
            "_model_module": "@jupyter-widgets/controls",
            "_model_module_version": "1.5.0",
            "_model_name": "FloatProgressModel",
            "_view_count": null,
            "_view_module": "@jupyter-widgets/controls",
            "_view_module_version": "1.5.0",
            "_view_name": "ProgressView",
            "bar_style": "success",
            "description": "",
            "description_tooltip": null,
            "layout": "IPY_MODEL_5ab40268492e44b9b4280e661174ddce",
            "max": 10000,
            "min": 0,
            "orientation": "horizontal",
            "style": "IPY_MODEL_01089e571c7c4f43b8af00c321d674c3",
            "value": 10000
          }
        },
        "4e7c6723f042445c9b59036e751739b5": {
          "model_module": "@jupyter-widgets/controls",
          "model_name": "HTMLModel",
          "model_module_version": "1.5.0",
          "state": {
            "_dom_classes": [],
            "_model_module": "@jupyter-widgets/controls",
            "_model_module_version": "1.5.0",
            "_model_name": "HTMLModel",
            "_view_count": null,
            "_view_module": "@jupyter-widgets/controls",
            "_view_module_version": "1.5.0",
            "_view_name": "HTMLView",
            "description": "",
            "description_tooltip": null,
            "layout": "IPY_MODEL_0c52f85129c24419b03a8d83ec20932a",
            "placeholder": "​",
            "style": "IPY_MODEL_4fd288e124e84da9b7e096c9a1e12e23",
            "value": " 10000/10000 [00:18&lt;00:00, 389.56it/s]"
          }
        },
        "8c530d29b7e443948993222b67c5cd3f": {
          "model_module": "@jupyter-widgets/base",
          "model_name": "LayoutModel",
          "model_module_version": "1.2.0",
          "state": {
            "_model_module": "@jupyter-widgets/base",
            "_model_module_version": "1.2.0",
            "_model_name": "LayoutModel",
            "_view_count": null,
            "_view_module": "@jupyter-widgets/base",
            "_view_module_version": "1.2.0",
            "_view_name": "LayoutView",
            "align_content": null,
            "align_items": null,
            "align_self": null,
            "border": null,
            "bottom": null,
            "display": null,
            "flex": null,
            "flex_flow": null,
            "grid_area": null,
            "grid_auto_columns": null,
            "grid_auto_flow": null,
            "grid_auto_rows": null,
            "grid_column": null,
            "grid_gap": null,
            "grid_row": null,
            "grid_template_areas": null,
            "grid_template_columns": null,
            "grid_template_rows": null,
            "height": null,
            "justify_content": null,
            "justify_items": null,
            "left": null,
            "margin": null,
            "max_height": null,
            "max_width": null,
            "min_height": null,
            "min_width": null,
            "object_fit": null,
            "object_position": null,
            "order": null,
            "overflow": null,
            "overflow_x": null,
            "overflow_y": null,
            "padding": null,
            "right": null,
            "top": null,
            "visibility": null,
            "width": null
          }
        },
        "b24fe19f0a2746708c331f4e37269de2": {
          "model_module": "@jupyter-widgets/base",
          "model_name": "LayoutModel",
          "model_module_version": "1.2.0",
          "state": {
            "_model_module": "@jupyter-widgets/base",
            "_model_module_version": "1.2.0",
            "_model_name": "LayoutModel",
            "_view_count": null,
            "_view_module": "@jupyter-widgets/base",
            "_view_module_version": "1.2.0",
            "_view_name": "LayoutView",
            "align_content": null,
            "align_items": null,
            "align_self": null,
            "border": null,
            "bottom": null,
            "display": null,
            "flex": null,
            "flex_flow": null,
            "grid_area": null,
            "grid_auto_columns": null,
            "grid_auto_flow": null,
            "grid_auto_rows": null,
            "grid_column": null,
            "grid_gap": null,
            "grid_row": null,
            "grid_template_areas": null,
            "grid_template_columns": null,
            "grid_template_rows": null,
            "height": null,
            "justify_content": null,
            "justify_items": null,
            "left": null,
            "margin": null,
            "max_height": null,
            "max_width": null,
            "min_height": null,
            "min_width": null,
            "object_fit": null,
            "object_position": null,
            "order": null,
            "overflow": null,
            "overflow_x": null,
            "overflow_y": null,
            "padding": null,
            "right": null,
            "top": null,
            "visibility": null,
            "width": null
          }
        },
        "7e04aa20535c45da847e6b03738ac9ec": {
          "model_module": "@jupyter-widgets/controls",
          "model_name": "DescriptionStyleModel",
          "model_module_version": "1.5.0",
          "state": {
            "_model_module": "@jupyter-widgets/controls",
            "_model_module_version": "1.5.0",
            "_model_name": "DescriptionStyleModel",
            "_view_count": null,
            "_view_module": "@jupyter-widgets/base",
            "_view_module_version": "1.2.0",
            "_view_name": "StyleView",
            "description_width": ""
          }
        },
        "5ab40268492e44b9b4280e661174ddce": {
          "model_module": "@jupyter-widgets/base",
          "model_name": "LayoutModel",
          "model_module_version": "1.2.0",
          "state": {
            "_model_module": "@jupyter-widgets/base",
            "_model_module_version": "1.2.0",
            "_model_name": "LayoutModel",
            "_view_count": null,
            "_view_module": "@jupyter-widgets/base",
            "_view_module_version": "1.2.0",
            "_view_name": "LayoutView",
            "align_content": null,
            "align_items": null,
            "align_self": null,
            "border": null,
            "bottom": null,
            "display": null,
            "flex": null,
            "flex_flow": null,
            "grid_area": null,
            "grid_auto_columns": null,
            "grid_auto_flow": null,
            "grid_auto_rows": null,
            "grid_column": null,
            "grid_gap": null,
            "grid_row": null,
            "grid_template_areas": null,
            "grid_template_columns": null,
            "grid_template_rows": null,
            "height": null,
            "justify_content": null,
            "justify_items": null,
            "left": null,
            "margin": null,
            "max_height": null,
            "max_width": null,
            "min_height": null,
            "min_width": null,
            "object_fit": null,
            "object_position": null,
            "order": null,
            "overflow": null,
            "overflow_x": null,
            "overflow_y": null,
            "padding": null,
            "right": null,
            "top": null,
            "visibility": null,
            "width": null
          }
        },
        "01089e571c7c4f43b8af00c321d674c3": {
          "model_module": "@jupyter-widgets/controls",
          "model_name": "ProgressStyleModel",
          "model_module_version": "1.5.0",
          "state": {
            "_model_module": "@jupyter-widgets/controls",
            "_model_module_version": "1.5.0",
            "_model_name": "ProgressStyleModel",
            "_view_count": null,
            "_view_module": "@jupyter-widgets/base",
            "_view_module_version": "1.2.0",
            "_view_name": "StyleView",
            "bar_color": null,
            "description_width": ""
          }
        },
        "0c52f85129c24419b03a8d83ec20932a": {
          "model_module": "@jupyter-widgets/base",
          "model_name": "LayoutModel",
          "model_module_version": "1.2.0",
          "state": {
            "_model_module": "@jupyter-widgets/base",
            "_model_module_version": "1.2.0",
            "_model_name": "LayoutModel",
            "_view_count": null,
            "_view_module": "@jupyter-widgets/base",
            "_view_module_version": "1.2.0",
            "_view_name": "LayoutView",
            "align_content": null,
            "align_items": null,
            "align_self": null,
            "border": null,
            "bottom": null,
            "display": null,
            "flex": null,
            "flex_flow": null,
            "grid_area": null,
            "grid_auto_columns": null,
            "grid_auto_flow": null,
            "grid_auto_rows": null,
            "grid_column": null,
            "grid_gap": null,
            "grid_row": null,
            "grid_template_areas": null,
            "grid_template_columns": null,
            "grid_template_rows": null,
            "height": null,
            "justify_content": null,
            "justify_items": null,
            "left": null,
            "margin": null,
            "max_height": null,
            "max_width": null,
            "min_height": null,
            "min_width": null,
            "object_fit": null,
            "object_position": null,
            "order": null,
            "overflow": null,
            "overflow_x": null,
            "overflow_y": null,
            "padding": null,
            "right": null,
            "top": null,
            "visibility": null,
            "width": null
          }
        },
        "4fd288e124e84da9b7e096c9a1e12e23": {
          "model_module": "@jupyter-widgets/controls",
          "model_name": "DescriptionStyleModel",
          "model_module_version": "1.5.0",
          "state": {
            "_model_module": "@jupyter-widgets/controls",
            "_model_module_version": "1.5.0",
            "_model_name": "DescriptionStyleModel",
            "_view_count": null,
            "_view_module": "@jupyter-widgets/base",
            "_view_module_version": "1.2.0",
            "_view_name": "StyleView",
            "description_width": ""
          }
        },
        "b7e45daeb8dd489c97f97e718e046c38": {
          "model_module": "@jupyter-widgets/controls",
          "model_name": "HBoxModel",
          "model_module_version": "1.5.0",
          "state": {
            "_dom_classes": [],
            "_model_module": "@jupyter-widgets/controls",
            "_model_module_version": "1.5.0",
            "_model_name": "HBoxModel",
            "_view_count": null,
            "_view_module": "@jupyter-widgets/controls",
            "_view_module_version": "1.5.0",
            "_view_name": "HBoxView",
            "box_style": "",
            "children": [
              "IPY_MODEL_2d6a92f88d6d4cc3969abc82dfdcdee5",
              "IPY_MODEL_1c9492d53ba64d13afa461a43acb0c71",
              "IPY_MODEL_d601b6dcc3eb42d39b9e85a46adae312"
            ],
            "layout": "IPY_MODEL_b27d192d5c60417a85d098725e8ad403"
          }
        },
        "2d6a92f88d6d4cc3969abc82dfdcdee5": {
          "model_module": "@jupyter-widgets/controls",
          "model_name": "HTMLModel",
          "model_module_version": "1.5.0",
          "state": {
            "_dom_classes": [],
            "_model_module": "@jupyter-widgets/controls",
            "_model_module_version": "1.5.0",
            "_model_name": "HTMLModel",
            "_view_count": null,
            "_view_module": "@jupyter-widgets/controls",
            "_view_module_version": "1.5.0",
            "_view_name": "HTMLView",
            "description": "",
            "description_tooltip": null,
            "layout": "IPY_MODEL_0603f9b17b2a4479abf433bf014d34ca",
            "placeholder": "​",
            "style": "IPY_MODEL_61bec10b15ad4a4999d1637f65bd7301",
            "value": "100%"
          }
        },
        "1c9492d53ba64d13afa461a43acb0c71": {
          "model_module": "@jupyter-widgets/controls",
          "model_name": "FloatProgressModel",
          "model_module_version": "1.5.0",
          "state": {
            "_dom_classes": [],
            "_model_module": "@jupyter-widgets/controls",
            "_model_module_version": "1.5.0",
            "_model_name": "FloatProgressModel",
            "_view_count": null,
            "_view_module": "@jupyter-widgets/controls",
            "_view_module_version": "1.5.0",
            "_view_name": "ProgressView",
            "bar_style": "success",
            "description": "",
            "description_tooltip": null,
            "layout": "IPY_MODEL_02dc0d65ec70483da1157b79bbd45393",
            "max": 10000,
            "min": 0,
            "orientation": "horizontal",
            "style": "IPY_MODEL_33adeef4990c4a33a3bafd487b1ce47e",
            "value": 10000
          }
        },
        "d601b6dcc3eb42d39b9e85a46adae312": {
          "model_module": "@jupyter-widgets/controls",
          "model_name": "HTMLModel",
          "model_module_version": "1.5.0",
          "state": {
            "_dom_classes": [],
            "_model_module": "@jupyter-widgets/controls",
            "_model_module_version": "1.5.0",
            "_model_name": "HTMLModel",
            "_view_count": null,
            "_view_module": "@jupyter-widgets/controls",
            "_view_module_version": "1.5.0",
            "_view_name": "HTMLView",
            "description": "",
            "description_tooltip": null,
            "layout": "IPY_MODEL_1b8aad6a8a6a484c8b35cdd305aa9a24",
            "placeholder": "​",
            "style": "IPY_MODEL_e90959e543084621a1c27bf8f9a1b8c6",
            "value": " 10000/10000 [20:49&lt;00:00,  8.44it/s]"
          }
        },
        "b27d192d5c60417a85d098725e8ad403": {
          "model_module": "@jupyter-widgets/base",
          "model_name": "LayoutModel",
          "model_module_version": "1.2.0",
          "state": {
            "_model_module": "@jupyter-widgets/base",
            "_model_module_version": "1.2.0",
            "_model_name": "LayoutModel",
            "_view_count": null,
            "_view_module": "@jupyter-widgets/base",
            "_view_module_version": "1.2.0",
            "_view_name": "LayoutView",
            "align_content": null,
            "align_items": null,
            "align_self": null,
            "border": null,
            "bottom": null,
            "display": null,
            "flex": null,
            "flex_flow": null,
            "grid_area": null,
            "grid_auto_columns": null,
            "grid_auto_flow": null,
            "grid_auto_rows": null,
            "grid_column": null,
            "grid_gap": null,
            "grid_row": null,
            "grid_template_areas": null,
            "grid_template_columns": null,
            "grid_template_rows": null,
            "height": null,
            "justify_content": null,
            "justify_items": null,
            "left": null,
            "margin": null,
            "max_height": null,
            "max_width": null,
            "min_height": null,
            "min_width": null,
            "object_fit": null,
            "object_position": null,
            "order": null,
            "overflow": null,
            "overflow_x": null,
            "overflow_y": null,
            "padding": null,
            "right": null,
            "top": null,
            "visibility": null,
            "width": null
          }
        },
        "0603f9b17b2a4479abf433bf014d34ca": {
          "model_module": "@jupyter-widgets/base",
          "model_name": "LayoutModel",
          "model_module_version": "1.2.0",
          "state": {
            "_model_module": "@jupyter-widgets/base",
            "_model_module_version": "1.2.0",
            "_model_name": "LayoutModel",
            "_view_count": null,
            "_view_module": "@jupyter-widgets/base",
            "_view_module_version": "1.2.0",
            "_view_name": "LayoutView",
            "align_content": null,
            "align_items": null,
            "align_self": null,
            "border": null,
            "bottom": null,
            "display": null,
            "flex": null,
            "flex_flow": null,
            "grid_area": null,
            "grid_auto_columns": null,
            "grid_auto_flow": null,
            "grid_auto_rows": null,
            "grid_column": null,
            "grid_gap": null,
            "grid_row": null,
            "grid_template_areas": null,
            "grid_template_columns": null,
            "grid_template_rows": null,
            "height": null,
            "justify_content": null,
            "justify_items": null,
            "left": null,
            "margin": null,
            "max_height": null,
            "max_width": null,
            "min_height": null,
            "min_width": null,
            "object_fit": null,
            "object_position": null,
            "order": null,
            "overflow": null,
            "overflow_x": null,
            "overflow_y": null,
            "padding": null,
            "right": null,
            "top": null,
            "visibility": null,
            "width": null
          }
        },
        "61bec10b15ad4a4999d1637f65bd7301": {
          "model_module": "@jupyter-widgets/controls",
          "model_name": "DescriptionStyleModel",
          "model_module_version": "1.5.0",
          "state": {
            "_model_module": "@jupyter-widgets/controls",
            "_model_module_version": "1.5.0",
            "_model_name": "DescriptionStyleModel",
            "_view_count": null,
            "_view_module": "@jupyter-widgets/base",
            "_view_module_version": "1.2.0",
            "_view_name": "StyleView",
            "description_width": ""
          }
        },
        "02dc0d65ec70483da1157b79bbd45393": {
          "model_module": "@jupyter-widgets/base",
          "model_name": "LayoutModel",
          "model_module_version": "1.2.0",
          "state": {
            "_model_module": "@jupyter-widgets/base",
            "_model_module_version": "1.2.0",
            "_model_name": "LayoutModel",
            "_view_count": null,
            "_view_module": "@jupyter-widgets/base",
            "_view_module_version": "1.2.0",
            "_view_name": "LayoutView",
            "align_content": null,
            "align_items": null,
            "align_self": null,
            "border": null,
            "bottom": null,
            "display": null,
            "flex": null,
            "flex_flow": null,
            "grid_area": null,
            "grid_auto_columns": null,
            "grid_auto_flow": null,
            "grid_auto_rows": null,
            "grid_column": null,
            "grid_gap": null,
            "grid_row": null,
            "grid_template_areas": null,
            "grid_template_columns": null,
            "grid_template_rows": null,
            "height": null,
            "justify_content": null,
            "justify_items": null,
            "left": null,
            "margin": null,
            "max_height": null,
            "max_width": null,
            "min_height": null,
            "min_width": null,
            "object_fit": null,
            "object_position": null,
            "order": null,
            "overflow": null,
            "overflow_x": null,
            "overflow_y": null,
            "padding": null,
            "right": null,
            "top": null,
            "visibility": null,
            "width": null
          }
        },
        "33adeef4990c4a33a3bafd487b1ce47e": {
          "model_module": "@jupyter-widgets/controls",
          "model_name": "ProgressStyleModel",
          "model_module_version": "1.5.0",
          "state": {
            "_model_module": "@jupyter-widgets/controls",
            "_model_module_version": "1.5.0",
            "_model_name": "ProgressStyleModel",
            "_view_count": null,
            "_view_module": "@jupyter-widgets/base",
            "_view_module_version": "1.2.0",
            "_view_name": "StyleView",
            "bar_color": null,
            "description_width": ""
          }
        },
        "1b8aad6a8a6a484c8b35cdd305aa9a24": {
          "model_module": "@jupyter-widgets/base",
          "model_name": "LayoutModel",
          "model_module_version": "1.2.0",
          "state": {
            "_model_module": "@jupyter-widgets/base",
            "_model_module_version": "1.2.0",
            "_model_name": "LayoutModel",
            "_view_count": null,
            "_view_module": "@jupyter-widgets/base",
            "_view_module_version": "1.2.0",
            "_view_name": "LayoutView",
            "align_content": null,
            "align_items": null,
            "align_self": null,
            "border": null,
            "bottom": null,
            "display": null,
            "flex": null,
            "flex_flow": null,
            "grid_area": null,
            "grid_auto_columns": null,
            "grid_auto_flow": null,
            "grid_auto_rows": null,
            "grid_column": null,
            "grid_gap": null,
            "grid_row": null,
            "grid_template_areas": null,
            "grid_template_columns": null,
            "grid_template_rows": null,
            "height": null,
            "justify_content": null,
            "justify_items": null,
            "left": null,
            "margin": null,
            "max_height": null,
            "max_width": null,
            "min_height": null,
            "min_width": null,
            "object_fit": null,
            "object_position": null,
            "order": null,
            "overflow": null,
            "overflow_x": null,
            "overflow_y": null,
            "padding": null,
            "right": null,
            "top": null,
            "visibility": null,
            "width": null
          }
        },
        "e90959e543084621a1c27bf8f9a1b8c6": {
          "model_module": "@jupyter-widgets/controls",
          "model_name": "DescriptionStyleModel",
          "model_module_version": "1.5.0",
          "state": {
            "_model_module": "@jupyter-widgets/controls",
            "_model_module_version": "1.5.0",
            "_model_name": "DescriptionStyleModel",
            "_view_count": null,
            "_view_module": "@jupyter-widgets/base",
            "_view_module_version": "1.2.0",
            "_view_name": "StyleView",
            "description_width": ""
          }
        }
      }
    },
    "accelerator": "GPU",
    "gpuClass": "standard"
  },
  "nbformat": 4,
  "nbformat_minor": 5
}